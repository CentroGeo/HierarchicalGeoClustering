{
 "cells": [
  {
   "cell_type": "code",
   "execution_count": null,
   "id": "809ac793-ea31-4a6c-bdad-479d3fb94d86",
   "metadata": {},
   "outputs": [],
   "source": [
    "#| default_exp documentation\n"
   ]
  },
  {
   "cell_type": "code",
   "execution_count": null,
   "id": "31934804-6fcf-47ae-8acb-e8bf803afc61",
   "metadata": {},
   "outputs": [],
   "source": [
    "#| export \n",
    "#| hide\n",
    "import nbdev.showdoc as showdoc \n",
    "from IPython.display import display, Markdown, Latex\n",
    "\n",
    "from nbdev.showdoc import show_doc , DocmentTbl\n",
    "from nbdev.showdoc import *\n",
    "from fastcore.docments import  *\n",
    "from fastcore.docscrape import *\n",
    "from fastcore.utils import *\n",
    "import inspect, sys\n",
    "from textwrap import fill"
   ]
  },
  {
   "cell_type": "code",
   "execution_count": null,
   "id": "f3577425-a474-4c31-9a03-548dba276d42",
   "metadata": {},
   "outputs": [],
   "source": [
    "#| export\n",
    "#| hide\n",
    "def table_string(symb):\n",
    "    \"\"\"Function to obtain the table from documentation\"\"\"\n",
    "    parse_doc= showdoc.parse_docstring(symb)\n",
    "    # check_default\n",
    "    desc= [item[1].desc for item in parse_doc['Parameters'].items() ]\n",
    "    default_col = [desc_in  for desc_li in  desc  for desc_in in desc_li if desc_in.find('Default') != -1]\n",
    "    defaul_val= None\n",
    "    # print(parse_doc['Parameters'])\n",
    "    if len(default_col)!=0:\n",
    "        defaul_val= []\n",
    "        for item in parse_doc['Parameters'].items():\n",
    "            val_defaut= [i[i.find('=')+1:-1] for i in item[1].desc  if i.find('Default') != -1 ]\n",
    "            if len(val_defaut) != 0:\n",
    "                defaul_val.append(val_defaut[0])\n",
    "            else:\n",
    "                defaul_val.append(' ')\n",
    "    var_col = [var[1].name for var in parse_doc['Parameters'].items()]\n",
    "    type_col = [var[1].type for var in parse_doc['Parameters'].items()]\n",
    "    desc_col = [var[1].desc for var in parse_doc['Parameters'].items()]\n",
    "    \n",
    "    if defaul_val:\n",
    "        zip(desc_col, defaul_val)\n",
    "        desc_col = [desc_pa[0][:-1] if desc_pa[1] != ' ' else desc_pa[0] for desc_pa in  zip(desc_col, defaul_val)  ] \n",
    "    if defaul_val:\n",
    "        table_h=   '| |'    + '*Type*'+'|'+'*Default*'+'|'+'*Details*'+'|\\n'\n",
    "        table_h += '|-----|'+ '-----' +'|'+'-----'    +'|'+'-----'    +'|\\n'\n",
    "    else:\n",
    "        table_h=   '| |'    + '*Type*'+'|'+'Details'+'|'+'\\n'\n",
    "        table_h += '|-----|'+ '-----' +'|'+'-----'  +'|'+'\\n'\n",
    "    table_t =table_h\n",
    "    # print('Var_col:', var_col)\n",
    "    renglones=[]\n",
    "    for num in enumerate(var_col):\n",
    "        if defaul_val:\n",
    "            reg_vl='|'+var_col[num[0]]+'|'+type_col[num[0]]+'|'+defaul_val[num[0]]+'|'+''.join(desc_col[num[0]])+'|'+'\\n'\n",
    "        else:\n",
    "            reg_vl='|'+var_col[num[0]]+'|'+type_col[num[0]]+'|'+''.join(desc_col[num[0]])+'|'+'\\n'\n",
    "            \n",
    "        renglones.append(reg_vl) \n",
    "    \n",
    "    # print(renglones)\n",
    "    for reg in renglones:\n",
    "        table_t += reg\n",
    "    ##### Return\n",
    "    return_row =parse_doc['Returns']\n",
    "    # print(return_row)\n",
    "    if len(return_row) !=0 :\n",
    "        if defaul_val:\n",
    "            return_row_s = '| **Returns** |' +  return_row.type+'| |'  +''.join(return_row.desc)\n",
    "        else:\n",
    "            return_row_s = '| **Returns** |' +   return_row.type+'|'+''.join(return_row.desc)\n",
    "        table_t +=  return_row_s\n",
    "    \n",
    "    return table_t"
   ]
  },
  {
   "cell_type": "code",
   "execution_count": null,
   "id": "fa0bad22-56fb-46a5-9492-46a80c6231fc",
   "metadata": {},
   "outputs": [],
   "source": [
    "#| export \n",
    "#| hide\n",
    "def get_signature(sym):\n",
    "    \"\"\"Get the string for the signature\"\"\"\n",
    "    sig = showdoc._wrap_sig(f\"{showdoc._fmt_sig(showdoc.signature_ex(sym, eval_str=True))}\") if showdoc.signature_ex(sym, eval_str=True) else ''\n",
    "    re_str = sig[0:7]+qual_name(sym)+sig[7:]\n",
    "    return re_str "
   ]
  },
  {
   "cell_type": "code",
   "execution_count": null,
   "id": "27da0a8d-0e02-4a59-b39b-b91ed9829477",
   "metadata": {},
   "outputs": [],
   "source": [
    "#| export \n",
    "#| hide\n",
    "def document_alternative(sym, level= 1):\n",
    "    \"\"\"Document function \"\"\"\n",
    "    title_h  =  '#'*level+ ' '+ qual_name(sym)+'\\n' \n",
    "    # ####link\n",
    "    # srt_nvdeb  =showdoc.NbdevLookup().code(patito.clase_fpp)\n",
    "    # link= showdoc._ext_link(srt_nvdeb, 'source', 'style=\"float:right; font-size:smaller\"') + '\\n\\n'\n",
    "    ####\n",
    "    desc_func = showdoc.docstring(parse_docstring(sym)['Summary'])+'\\n'\n",
    "    signature = get_signature(sym) +'\\n'\n",
    "\n",
    "    return Markdown(title_h +desc_func+signature+'\\n' + table_string(sym))"
   ]
  },
  {
   "cell_type": "code",
   "execution_count": null,
   "id": "15cff03a-5edb-47d4-9b6b-5289cbb1812b",
   "metadata": {},
   "outputs": [],
   "source": [
    "def foo(var1, var2, *args, long_var_name=\"hi\", only_seldom_used_keyword=0, **kwargs):\n",
    "    r\"\"\"Summarize the function in one line.\n",
    "\n",
    "    Several sentences providing an extended description. Refer to\n",
    "    variables using back-ticks, e.g. `var`.\n",
    "\n",
    "    Parameters\n",
    "    ----------\n",
    "    \n",
    "    var1 : array_like\n",
    "        Array_like means all those objects -- lists, nested lists, etc. --\n",
    "        that can be converted to an array.  We can also refer to\n",
    "        variables like `var1`. (Default = 4)\n",
    "    var2 : int\n",
    "        The type above can either refer to an actual Python type\n",
    "        (e.g. ``int``), or describe the type of the variable in more\n",
    "        detail, e.g. ``(N,) ndarray`` or ``array_like``.\n",
    "    *args : iterable\n",
    "        Other arguments.\n",
    "    long_var_name : {'hi', 'ho'}, optional\n",
    "        Choices in brackets, default first when optional.\n",
    "\n",
    "    Returns\n",
    "    -------\n",
    "    type\n",
    "        Explanation of anonymous return value of type ``type``.\n",
    "    describe : type\n",
    "        Explanation of return value named `describe`.\n",
    "    out : type\n",
    "        Explanation of `out`.\n",
    "    type_without_description\n",
    "\n",
    "    Other Parameters\n",
    "    ----------------\n",
    "    only_seldom_used_keyword : int, optional\n",
    "        Infrequently used parameters can be described under this optional\n",
    "        section to prevent cluttering the Parameters section.\n",
    "    **kwargs : dict\n",
    "        Other infrequently used keyword arguments. Note that all keyword\n",
    "        arguments appearing after the first parameter specified under the\n",
    "        Other Parameters section, should also be described under this\n",
    "        section.\n",
    "\n",
    "    Raises\n",
    "    ------\n",
    "    BadException\n",
    "        Because you shouldn't have done that.\n",
    "\n",
    "    See Also\n",
    "    --------\n",
    "    numpy.array : Relationship (optional).\n",
    "    numpy.ndarray : Relationship (optional), which could be fairly long, in\n",
    "                    which case the line wraps here.\n",
    "    numpy.dot, numpy.linalg.norm, numpy.eye\n",
    "\n",
    "    Notes\n",
    "    -----\n",
    "    Notes about the implementation algorithm (if needed).\n",
    "\n",
    "    This can have multiple paragraphs.\n",
    "\n",
    "    You may include some math:\n",
    "\n",
    "    .. math:: X(e^{j\\omega } ) = x(n)e^{ - j\\omega n}\n",
    "\n",
    "    And even use a Greek symbol like :math:`\\omega` inline.\n",
    "\n",
    "    References\n",
    "    ----------\n",
    "    Cite the relevant literature, e.g. [1]_.  You may also cite these\n",
    "    references in the notes section above.\n",
    "\n",
    "    .. [1] O. McNoleg, \"The integration of GIS, remote sensing,\n",
    "       expert systems and adaptive co-kriging for environmental habitat\n",
    "       modelling of the Highland Haggis using object-oriented, fuzzy-logic\n",
    "       and neural-network techniques,\" Computers & Geosciences, vol. 22,\n",
    "       pp. 585-588, 1996.\n",
    "\n",
    "    Examples\n",
    "    --------\n",
    "    These are written in doctest format, and should illustrate how to\n",
    "    use the function.\n",
    "\n",
    "    >>> a = [1, 2, 3]\n",
    "    >>> print([x + 3 for x in a])\n",
    "    [4, 5, 6]\n",
    "    >>> print(\"a\\nb\")\n",
    "    a\n",
    "    b\n",
    "    \"\"\"\n",
    "    # After closing class docstring, there should be one blank line to\n",
    "    # separate following codes (according to PEP257).\n",
    "    # But for function, method and module, there should be no blank lines\n",
    "    # after closing the docstring.\n",
    "    pass"
   ]
  },
  {
   "cell_type": "code",
   "execution_count": null,
   "id": "2c12db8f-d570-47b5-aa26-e4c7104e420b",
   "metadata": {},
   "outputs": [],
   "source": [
    "class patito:\n",
    "    \n",
    "    def clase_fpp():\n",
    "        \"\"\"\n",
    "        Several sentences providing an extended description. Refer to\n",
    "        variables using back-ticks, e.g. `var`.\n",
    "\n",
    "        Parameters\n",
    "        ----------\n",
    "\n",
    "        var1 : array_like \n",
    "            Array_like means all those objects -- lists, nested lists, etc. --\n",
    "            that can be converted to an array.  We can also refer to\n",
    "            variables like `var1`.\n",
    "            (Default = True)\n",
    "                \n",
    "        var2 : int\n",
    "            The type above can either refer to an actual Python type\n",
    "            (e.g. ``int``), or describe the type of the variable in more\n",
    "            detail, e.g. ``(N,) ndarray`` or ``array_like``.\n",
    "        *args : iterable\n",
    "            Other arguments.\n",
    "        long_var_name : {'hi', 'ho'}, optional\n",
    "            Choices in brackets, default first when optional.\n",
    "\n",
    "        Returns\n",
    "        -------\n",
    "        type\n",
    "            Explanation of anonymous return value of type ``type``.\n",
    "        describe : type\n",
    "            Explanation of return value named `describe`.\n",
    "            \"\"\"\n",
    "        print(4)\n",
    "        return None"
   ]
  },
  {
   "cell_type": "code",
   "execution_count": null,
   "id": "51d09254-bda1-445d-882c-6bf88b158592",
   "metadata": {},
   "outputs": [],
   "source": [
    "def aluete_fpp():\n",
    "        \"\"\"\n",
    "        Several sentences providing an extended description. Refer to\n",
    "        variables using back-ticks, e.g. `var`.\n",
    "\n",
    "        Parameters\n",
    "        ----------\n",
    "\n",
    "        var1 : array_like \n",
    "            Array_like means all those objects -- lists, nested lists, etc. --\n",
    "            that can be converted to an array.  We can also refer to\n",
    "            variables like `var1`.\n",
    "            (Default = True)\n",
    "                \n",
    "        var2 : int\n",
    "            The type above can either refer to an actual Python type\n",
    "            (e.g. ``int``), or describe the type of the variable in more\n",
    "            detail, e.g. ``(N,) ndarray`` or ``array_like``.\n",
    "        *args : iterable\n",
    "            Other arguments.\n",
    "        long_var_name : {'hi', 'ho'}, optional\n",
    "            Choices in brackets, default first when optional.\n",
    "\n",
    "        Returns\n",
    "        -------\n",
    "        \n",
    "            \"\"\"\n",
    "        print(54)"
   ]
  },
  {
   "cell_type": "code",
   "execution_count": null,
   "id": "9a6bd2f6-478f-4025-8b69-cbec96ec7d40",
   "metadata": {},
   "outputs": [
    {
     "data": {
      "text/markdown": [
       "# patito.clase_fpp\n",
       "Several sentences providing an extended description. Refer to\n",
       "variables using back-ticks, e.g. `var`.\n",
       ">      patito.clase_fpp()\n",
       "\n",
       "| |*Type*|*Default*|*Details*|\n",
       "|-----|-----|-----|-----|\n",
       "|var1|array_like| True|Array_like means all those objects -- lists, nested lists, etc. --that can be converted to an array.  We can also refer tovariables like `var1`.|\n",
       "|var2|int| |The type above can either refer to an actual Python type(e.g. ``int``), or describe the type of the variable in moredetail, e.g. ``(N,) ndarray`` or ``array_like``.|\n",
       "|*args|iterable| |Other arguments.|\n",
       "|long_var_name|{'hi', 'ho'}, optional| |Choices in brackets, default first when optional.|\n",
       "| **Returns** |type| |Explanation of anonymous return value of type ``type``."
      ],
      "text/plain": [
       "<IPython.core.display.Markdown object>"
      ]
     },
     "execution_count": null,
     "metadata": {},
     "output_type": "execute_result"
    }
   ],
   "source": [
    "document_alternative(patito.clase_fpp)"
   ]
  },
  {
   "cell_type": "code",
   "execution_count": null,
   "id": "e80a00e1-b5ff-4195-bf80-6ead71885a53",
   "metadata": {},
   "outputs": [
    {
     "name": "stderr",
     "output_type": "stream",
     "text": [
      "/home/miguel/miniconda3/envs/shac/lib/python3.8/site-packages/fastcore/docscrape.py:225: UserWarning: Unknown section Other Parameters\n",
      "  else: warn(msg)\n",
      "/home/miguel/miniconda3/envs/shac/lib/python3.8/site-packages/fastcore/docscrape.py:225: UserWarning: Unknown section Raises\n",
      "  else: warn(msg)\n",
      "/home/miguel/miniconda3/envs/shac/lib/python3.8/site-packages/fastcore/docscrape.py:225: UserWarning: Unknown section See Also\n",
      "  else: warn(msg)\n",
      "/home/miguel/miniconda3/envs/shac/lib/python3.8/site-packages/fastcore/docscrape.py:225: UserWarning: Unknown section Notes\n",
      "  else: warn(msg)\n",
      "/home/miguel/miniconda3/envs/shac/lib/python3.8/site-packages/fastcore/docscrape.py:225: UserWarning: Unknown section References\n",
      "  else: warn(msg)\n",
      "/home/miguel/miniconda3/envs/shac/lib/python3.8/site-packages/fastcore/docscrape.py:225: UserWarning: Unknown section Examples\n",
      "  else: warn(msg)\n"
     ]
    },
    {
     "data": {
      "text/markdown": [
       "# foo\n",
       "Summarize the function in one line.\n",
       ">      foo(var1, var2, *args, long_var_name='hi', only_seldom_used_keyword=0,\n",
       ">       **kwargs)\n",
       "\n",
       "| |*Type*|*Default*|*Details*|\n",
       "|-----|-----|-----|-----|\n",
       "|var1|array_like| 4|Array_like means all those objects -- lists, nested lists, etc. --that can be converted to an array.  We can also refer to|\n",
       "|var2|int| |The type above can either refer to an actual Python type(e.g. ``int``), or describe the type of the variable in moredetail, e.g. ``(N,) ndarray`` or ``array_like``.|\n",
       "|*args|iterable| |Other arguments.|\n",
       "|long_var_name|{'hi', 'ho'}, optional| |Choices in brackets, default first when optional.|\n",
       "| **Returns** |type| |Explanation of anonymous return value of type ``type``."
      ],
      "text/plain": [
       "<IPython.core.display.Markdown object>"
      ]
     },
     "execution_count": null,
     "metadata": {},
     "output_type": "execute_result"
    }
   ],
   "source": [
    "document_alternative(foo)"
   ]
  },
  {
   "cell_type": "code",
   "execution_count": null,
   "id": "867217ae-01fd-40a1-9216-36faf2f893d1",
   "metadata": {},
   "outputs": [
    {
     "data": {
      "text/markdown": [
       "# aluete_fpp\n",
       "Several sentences providing an extended description. Refer to\n",
       "variables using back-ticks, e.g. `var`.\n",
       ">      aluete_fpp()\n",
       "\n",
       "| |*Type*|*Default*|*Details*|\n",
       "|-----|-----|-----|-----|\n",
       "|var1|array_like| True|Array_like means all those objects -- lists, nested lists, etc. --that can be converted to an array.  We can also refer tovariables like `var1`.|\n",
       "|var2|int| |The type above can either refer to an actual Python type(e.g. ``int``), or describe the type of the variable in moredetail, e.g. ``(N,) ndarray`` or ``array_like``.|\n",
       "|*args|iterable| |Other arguments.|\n",
       "|long_var_name|{'hi', 'ho'}, optional| |Choices in brackets, default first when optional.|\n",
       "| **Returns** || |"
      ],
      "text/plain": [
       "<IPython.core.display.Markdown object>"
      ]
     },
     "execution_count": null,
     "metadata": {},
     "output_type": "execute_result"
    }
   ],
   "source": [
    "document_alternative(aluete_fpp)"
   ]
  },
  {
   "cell_type": "code",
   "execution_count": null,
   "id": "24f40bf2-1ec7-4d06-a401-528f457dcc11",
   "metadata": {},
   "outputs": [],
   "source": [
    "#| hide\n",
    "#| export\n",
    "def string_recursive_tag( string_tag,\n",
    "                         **kwargs):\n",
    "    \"\"\"\n",
    "    The string labels to add to the node.\n",
    "    \n",
    "    Parameters\n",
    "    ----------\n",
    "    level_str : str optional\n",
    "        The level string to use to to separete the level \n",
    "\n",
    "    until_level_str : str \n",
    "        The level string finish\n",
    "\n",
    "    node_str : str \n",
    "        The node string to use \n",
    "\n",
    "    until_node_str : str\n",
    "        The node string finish\n",
    "\n",
    "    noise_str : str\n",
    "        The noise string \n",
    "\n",
    "    tree_rec : str\n",
    "        tree to obtain the final cluster id\n",
    "\n",
    "    Returns\n",
    "    --------\n",
    "    type : tuple\n",
    "        level and cluster id from the tag using a tree \n",
    "    \"\"\"\n",
    "    \n",
    "    level_str = kwargs.get('level_str', '_L_' )\n",
    "    until_level_str = kwargs.get('until_level_str', '_l_')\n",
    "    node_str  = kwargs.get('node_str', '_l_')\n",
    "    until_node_str = kwargs.get('until_node_str', '_c_')\n",
    "    noise_str= kwargs.get ('noise_str', '_noise')\n",
    "    tree = kwargs.get( 'tree_rec', None)\n",
    "    ### Level\n",
    "    print(5)"
   ]
  },
  {
   "cell_type": "code",
   "execution_count": null,
   "id": "1a8097e7-8a3a-468b-b092-b519d4ae0cca",
   "metadata": {},
   "outputs": [
    {
     "name": "stderr",
     "output_type": "stream",
     "text": [
      "/home/miguel/miniconda3/envs/shac/lib/python3.8/site-packages/fastcore/docscrape.py:225: UserWarning: potentially wrong underline length... \n",
      "Returns \n",
      "-------- in \n",
      "The string labels to add to the node.\n",
      "...\n",
      "  else: warn(msg)\n"
     ]
    },
    {
     "data": {
      "text/markdown": [
       "# string_recursive_tag\n",
       "The string labels to add to the node.\n",
       ">      string_recursive_tag(string_tag, **kwargs)\n",
       "\n",
       "| |*Type*|Details|\n",
       "|-----|-----|-----|\n",
       "|level_str|str optional|The level string to use to to separete the level |\n",
       "|until_level_str|str|The level string finish|\n",
       "|node_str|str|The node string to use |\n",
       "|until_node_str|str|The node string finish|\n",
       "|noise_str|str|The noise string |\n",
       "|tree_rec|str|tree to obtain the final cluster id|\n",
       "| **Returns** |tuple|level and cluster id from the tag using a tree "
      ],
      "text/plain": [
       "<IPython.core.display.Markdown object>"
      ]
     },
     "execution_count": null,
     "metadata": {},
     "output_type": "execute_result"
    }
   ],
   "source": [
    "document_alternative(string_recursive_tag)"
   ]
  },
  {
   "cell_type": "code",
   "execution_count": null,
   "id": "2431e981-dd23-4f9d-8722-50e767b51ce1",
   "metadata": {},
   "outputs": [],
   "source": [
    "#| hide\n",
    "import nbdev; nbdev.nbdev_export()"
   ]
  }
 ],
 "metadata": {
  "kernelspec": {
   "display_name": "Python 3 (ipykernel)",
   "language": "python",
   "name": "python3"
  }
 },
 "nbformat": 4,
 "nbformat_minor": 5
}
