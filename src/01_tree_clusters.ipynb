{
 "cells": [
  {
   "cell_type": "code",
   "execution_count": 1,
   "id": "79175d1f-ba70-463c-9c7a-2051f9a9faa0",
   "metadata": {},
   "outputs": [],
   "source": [
    "#hide\n",
    "#default_exp Tree_clusters\n",
    "from nbdev import *\n",
    "from nbdev.showdoc import show_doc"
   ]
  },
  {
   "cell_type": "code",
   "execution_count": 2,
   "id": "6262c6ee-596e-4222-9d2b-fdee763c6c05",
   "metadata": {},
   "outputs": [],
   "source": [
    "#export \n",
    "import os\n",
    "import sys\n",
    "module_path = os.path.abspath(os.path.join('..'))\n",
    "if module_path not in sys.path:\n",
    "    sys.path.append(module_path)\n",
    "from HierarchicalGeoClustering.Node_cluster import cluster_node"
   ]
  },
  {
   "cell_type": "markdown",
   "id": "23b9619a-810a-49e1-9239-5fc6ae69b345",
   "metadata": {
    "tags": []
   },
   "source": [
    "# Tree Cluster class \n",
    "\n",
    "The class for a hierarchical structure (clusters tree) that allows to visualize and create random hierargical geographical points"
   ]
  },
  {
   "cell_type": "code",
   "execution_count": 15,
   "id": "e4a9fca0-a169-416b-a23d-5fb5b96d48b6",
   "metadata": {},
   "outputs": [],
   "source": [
    "#export\n",
    "class tree_clusters(object):\n",
    "    levels = 0\n",
    "    levels_nodes=[]\n",
    "    root = None\n",
    "    def __init__(self, \n",
    "                levels=None, \n",
    "                r_name = 'Root',\n",
    "                level_str= 'l_',\n",
    "                node_str ='n_',\n",
    "                **kwargs\n",
    "                ):\n",
    "        \"\"\"\n",
    "        Build the tree \n",
    "        \n",
    "        :param int levels: Number of leevels in the tree (Default =None) \n",
    "        \n",
    "        :param str r_name : String to root label (Default= 'Root')\n",
    "        \n",
    "        :param str level_str: String to name the levels (Default= 'l_')\n",
    "        \n",
    "        :param str node_str: String to name the nodes (Default ='n_')\n",
    "        \n",
    "        :param double random_seed:\n",
    "        \"\"\"\n",
    "        random_seed = kwargs.get('random_seed', 123)\n",
    "        random.seed(random_seed)\n",
    "        if levels is None:\n",
    "            self.levels = 0\n",
    "            self.levels_nodes=[]\n",
    "            self.root = None\n",
    "            return \n",
    "        \n",
    "        self.levels = levels \n",
    "        self.root = cluster_node(name=r_name)\n",
    "        levels_nodes = []\n",
    "        previus_level= []\n",
    "\n",
    "        for level in range(self.levels):\n",
    "            if level==0:\n",
    "                previus_level = [self.root]\n",
    "                levels_nodes.append(previus_level)\n",
    "            next_level= []\n",
    "            for prev in  previus_level:\n",
    "                n_childs = random.randint(0, 5)\n",
    "                node_childs = [\n",
    "                    cluster_node(name = prev.name +'_'+level_str+str(level)+'_'+node_str+str(i),\n",
    "                                parent=prev) for i in  range(n_childs) \n",
    "                            ]\n",
    "                next_level = next_level +node_childs\n",
    "                \n",
    "            previus_level = next_level\n",
    "            levels_nodes.append(next_level)     \n",
    "        self.levels_nodes=levels_nodes\n",
    "    \n",
    "    def get_level(self, level):\n",
    "        \"\"\"\n",
    "        :param int level: Level to get nodes\n",
    "        :returns List: All the nodes in the level\n",
    "        \"\"\"\n",
    "        return self.levels_nodes[level]\n",
    "    \n",
    "    def get_node(self, level_int, node_int):\n",
    "        \"\"\"\n",
    "        Get the node in level_in at position node_int\n",
    "        \n",
    "        :param  int level_int: Level of node\n",
    "        \n",
    "        :param int node_int: Position in level\n",
    "        \n",
    "        :returns cluster_node: Node \n",
    "        \"\"\"\n",
    "        return self.levels_nodes[level_int][node_int]\n",
    "    ######Populate the structure \n",
    "    def populate_tree(self, \n",
    "                    number_per_cluster= None,\n",
    "                    density_init= None,\n",
    "                    factor_density = 3, \n",
    "                    density_init_list = None, # list of densities by level\n",
    "                    **kwargs\n",
    "                    ):\n",
    "        \"\"\"\n",
    "        Populate the tree_cluster structure, populate each node \n",
    "        inside the tree_clusters using random ranges.\n",
    "        \n",
    "        :param int number_per_cluster: Number of point per cluster (Default= None)\n",
    "        \n",
    "        :param double density_init: Initial density of the tree (Default= None)\n",
    "        \n",
    "        :param double factor_density: Factor to increase density (Default = 3)         \n",
    "        \n",
    "        :returns None:\n",
    "        \"\"\"\n",
    "\n",
    "        for level_id, level in  enumerate(self.levels_nodes):\n",
    "            rand_cluster_state= np.random.randint(0, 1500, len(level)) ## Random ints for random_seed\n",
    "            if level_id ==0 :\n",
    "                density_lev= density_init\n",
    "            elif density_init is not None:\n",
    "                density_lev= prev_density*3\n",
    "            \n",
    "            for clust_id, cluster in enumerate(level): \n",
    "                if number_per_cluster is not None:\n",
    "                    cluster.populate_cluster(num_points =number_per_cluster,\n",
    "                                random_state = rand_cluster_state[clust_id],\n",
    "                                **kwargs\n",
    "                    )\n",
    "                elif number_per_cluster is None and density_lev is not None:\n",
    "                    cluster.populate_cluster(\n",
    "                                density= density_lev,\n",
    "                                random_state = rand_cluster_state[clust_id],\n",
    "                                **kwargs\n",
    "                    )\n",
    "                elif number_per_cluster is None and density_lev is None and density_init_list is not None:\n",
    "                    cluster.populate_cluster(\n",
    "                                density= density_init_list[level_id],\n",
    "                                random_state = rand_cluster_state[clust_id],\n",
    "                                **kwargs\n",
    "                    )\n",
    "    ########Get all point in the tree\n",
    "    def get_points_tree(self, level= None, iterative =False):\n",
    "        \"\"\"\n",
    "        Return all the points in the tree\n",
    "        \n",
    "        :param int level: The level to exctract the points (default = None)\n",
    "        \n",
    "        :param bool iterative: To exctract iterative (Default =False)\n",
    "        \n",
    "        :return Points :\n",
    "        \"\"\"\n",
    "        \n",
    "        if level != None:\n",
    "            lis_level = self.get_level(level)\n",
    "            all_points = []\n",
    "            for node in lis_level:\n",
    "                all_points = all_points + [i for i in node.append(node.get_points(all_tag = iterative ) )]\n",
    "            return all_points\n",
    "        else:\n",
    "            all_points = []\n",
    "            for level_t in  self.levels_nodes:\n",
    "                for node in level_t:\n",
    "\n",
    "                    all_points =all_points+[i for i in node.get_points(all_tag = iterative )] \n",
    "            return all_points\n",
    "            #return self.root.get_points( all_tag = iterative )\n",
    "    ####### visualize the structure \n",
    "    def print_structure(self):\n",
    "        \"\"\"\n",
    "        Print the tree structure in console\n",
    "        \n",
    "        \"\"\"\n",
    "        print(self.root.name)\n",
    "        for pre, _, node in RenderTree( self.root ):\n",
    "            treestr = u\"%s%s\" % (pre, node.name)\n",
    "            print(treestr.ljust(8))\n",
    "    \n",
    "    #### visualization of the clusters\n",
    "    \n",
    "    def visualize(self,\n",
    "                    axs,\n",
    "                    colors_levels= None,\n",
    "                    **kwargs\n",
    "                    ):\n",
    "        \"\"\"\n",
    "        Visualize the tree \n",
    "        \n",
    "        :param axs: The ax to plot the figure\n",
    "        :param str color_map_val: use a matplotlib colormap\n",
    "        \n",
    "        \"\"\"\n",
    "        if colors_levels is None:\n",
    "            color_map_val= kwargs.get('color_map_val', 'jet')\n",
    "            colors=  cm.get_cmap(color_map_val, len(self.levels_nodes))\n",
    "            color_map= colors#matplotlib.colors.ListedColormap(colors)\n",
    "        else:\n",
    "            color_map= matplotlib.colors.ListedColormap(colors_levels)\n",
    "        \n",
    "        for level, level_clusters in enumerate(self.levels_nodes):\n",
    "            for cluster in level_clusters:\n",
    "                cluster_alpha= kwargs.get('cluster_alpha', .2)\n",
    "                cluster.viewer_cluster(\n",
    "                    axs,\n",
    "                    color_cluster= color_map(level),\n",
    "                    polygon_color = color_map(level),\n",
    "                    **kwargs\n",
    "                )\n",
    "    ##### Vizulize levels\n",
    "    def visualize_levels(self,\n",
    "                        axs,\n",
    "                        **kwargs\n",
    "                        ):\n",
    "        levels_vis = kwargs.get('levels', [0]),\n",
    "        # print(levels_vis)\n",
    "        color_map_val= kwargs.get('color_map_val', 'jet')\n",
    "        colors=  cm.get_cmap(color_map_val, len(levels_vis)+1)\n",
    "        color_map= colors#matplotlib.colors.ListedColormap(colors)\n",
    "        \n",
    "        # print([ lev_i for lev_i in levels_vis[0] ])\n",
    "        for level, level_clusters in enumerate([ self.levels_nodes[lev_i] for lev_i in levels_vis[0] ]):\n",
    "            for cluster in level_clusters:\n",
    "                cluster_alpha= kwargs.get('cluster_alpha', .2)\n",
    "                cluster.viewer_cluster(\n",
    "                    axs,\n",
    "                    color_cluster= color_map(level),\n",
    "                    polygon_color = color_map(level),\n",
    "                    **kwargs\n",
    "                )\n",
    "    #########################Copy\n",
    "    def copy_dynamic(self, \n",
    "                    list_levels_node = None,\n",
    "                    **kwargs \n",
    "                    ):\n",
    "        \"\"\"\n",
    "        creates a dynamic copy of the tree\n",
    "        \"\"\"\n",
    "        # duplicate_node\n",
    "        #### Es necesario duplicar la estructura \n",
    "        new_tree = tree_clusters()\n",
    "        #new_tree.levels = self.levels\n",
    "        verbose = kwargs.get('verbose', False )\n",
    "        # print (kwargs.get('copy_pref', False ))\n",
    "        \n",
    "        for level_id ,level_tree in enumerate(self.levels_nodes):\n",
    "            level_li =[]\n",
    "            for node in level_tree:\n",
    "                new_node = node.duplicate_node(**kwargs)\n",
    "                ####Copy the relation to the parent \n",
    "                ### ToDo change if the node is not include on the dinamic copy\n",
    "                \n",
    "                if node.parent in self.levels_nodes[level_id-1] and level_id!=0 :\n",
    "                    result_index = self.levels_nodes[level_id-1].index(node.parent)\n",
    "                    if verbose:\n",
    "                        print(f\"The {node.name} parent has an index of {result}.\")\n",
    "                    new_node.parent =  new_tree.levels_nodes[level_id-1][result_index]\n",
    "                else : \n",
    "                    new_node.parent =  None\n",
    "\n",
    "                level_li.append(new_node) \n",
    "            new_tree.levels_nodes.append(level_li)\n",
    "        new_tree.root = new_tree.levels_nodes[0][0]\n",
    "        return new_tree\n",
    "    \n",
    "    def get_deepth(self):\n",
    "        \"\"\"\n",
    "        Returns the deepth of the tree\n",
    "        \"\"\"\n",
    "        return len(self.levels_nodes)\n",
    "\n",
    "\n",
    "\n",
    "    def size(self):\n",
    "        \"\"\" \n",
    "        Returns the number of node in the tree\n",
    "        \"\"\"\n",
    "        sum_s=0\n",
    "        for i in self.levels_nodes:\n",
    "            sum_s +=len(i)\n",
    "        return sum_s\n",
    "\n",
    "    def size_points(self):\n",
    "        \"\"\"\n",
    "        Returns the number of points in the tree \n",
    "        \n",
    "        \"\"\"\n",
    "        sum_s=0\n",
    "        for level in self.levels_nodes:\n",
    "            for node in level:\n",
    "                sum_s += len(node.point_cluster_noise)\n",
    "        return sum_s\n",
    "    \n",
    "    def get_dataframe(self, **kwargs):\n",
    "        \"\"\"\n",
    "        Get a pandas Dataframe with the points and the tags of for aech point\n",
    "        :returns pandas.DataFrame : Returns a dataframe with the columns 'Tag ', 'Final_tag', 'level', and 'cluster_id'\n",
    "        Tag: is the reference of the point belong to a cluster as noise\n",
    "        Final_tag: the point can belong to a inner cluster this tag tell \n",
    "        wich is the las tag category the point belong to.\n",
    "        level: list of levels of the clusters that the point belongs to.\n",
    "        cluster_id: list of cluster id that the points belongs to.  \n",
    "        \"\"\"\n",
    "        points_tags = self.root.tag_all_point()\n",
    "        df_points_tag= pd.DataFrame(points_tags, columns= ['Points', 'Tag'])\n",
    "        df_points_tag['Final_tag']= df_points_tag['Tag'].apply(lambda l :retag_from_strings(l) )\n",
    "        levels_id = df_points_tag['Final_tag'].apply(lambda l: levels_from_strings(l,level_str='_l_', node_str='_n_'))\n",
    "        df_points_tag['level'] = levels_id.apply(lambda l: l[0])\n",
    "        df_points_tag['cluster_id'] = levels_id.apply(lambda l: l[1])\n",
    "        return df_points_tag\n",
    "    \n",
    "\n",
    "    def get_dataframe_recursive(self,  **kwargs):\n",
    "        \"\"\"\n",
    "        Returns a dataframe with the columns 'Tag ', 'Final_tag', 'level', and 'cluster_id'\n",
    "        This function is with the purpouse to obtain the same tags for the 'level' and \n",
    "        'cluster_id' from the recorsive clustering function\n",
    "        Tag: is the reference of the point belong to a cluster as noise\n",
    "        Final_tag: the point can belong to a inner cluster this tag tell \n",
    "        wich is the las tag category the point belong to.\n",
    "        level: list of levels of the clusters that the point belongs to.\n",
    "        cluster_id: list of cluster id that the points belongs to.  \n",
    "        \"\"\"\n",
    "        ### Pedir que como parametros level_str='_l_', node_str\n",
    "        func_level_nodes = kwargs.get('func_level_nodes' , string_recursive_tag) \n",
    "        \n",
    "\n",
    "        points_tags = self.root.tag_all_point()\n",
    "        df_points_tag= pd.DataFrame(points_tags, columns= ['Points', 'Tag'])\n",
    "        df_points_tag['Final_tag']= df_points_tag['Tag'].apply(lambda l :retag_from_strings(l) )\n",
    "        levels_id = df_points_tag['Final_tag'].apply(lambda l: func_level_nodes( l,tree_rec= self,**kwargs))\n",
    "        df_points_tag['level'] = levels_id.apply(lambda l: l[0])\n",
    "        df_points_tag['cluster_id'] = levels_id.apply(lambda l: l[1])\n",
    "        return df_points_tag\n",
    "    \n",
    "    def get_labels_point_nodes(self, **kwargs):\n",
    "        \"\"\"The function returns the poinst of the tree labeled for each node\n",
    "        \"\"\"\n",
    "        all_points=[] \n",
    "        level_get = kwargs.get('level_get' , self.get_deepth())\n",
    "        for num_lev, level in enumerate( self.levels_nodes):\n",
    "            if num_lev < level_get:\n",
    "                all_level = []\n",
    "                for node in level:\n",
    "                    all_level.append([(i,node.name + '_noise')  for i in node.point_cluster_noise])\n",
    "                all_points.append(all_level)\n",
    "            elif num_lev == level_get:\n",
    "                all_level = []\n",
    "                for node in level:\n",
    "                    all_level.append([(i,node.name + '_noise')  for i in node.get_point_decendent()])\n",
    "                all_points.append(all_level)\n",
    "\n",
    "        applaztalista = []\n",
    "        for level_p in all_points:\n",
    "            for node_res in level_p:\n",
    "                applaztalista =applaztalista +node_res  \n",
    "        return applaztalista\n",
    "\n",
    "\n",
    "    def get_dataframe_recursive_node_label(self,  **kwargs):\n",
    "        \"\"\"\n",
    "        Returns a dataframe with the columns 'Tag ', 'Final_tag', 'level', and 'cluster_id'\n",
    "        This function is with the purpouse to obtain the same tags for the 'level' and \n",
    "        'cluster_id' from the recursive clustering function\n",
    "        Tag: is the reference of the point belong to a cluster as noise\n",
    "        Final_tag: the point can belong to a inner cluster this tag tell \n",
    "        wich is the las tag category the point belong to.\n",
    "        level: list of levels of the clusters that the point belongs to.\n",
    "        cluster_id: list of cluster id that the points belongs to.  \n",
    "        \"\"\"\n",
    "        ### Pedir que como parametros level_str='_l_', node_str\n",
    "        func_level_nodes = kwargs.get('func_level_nodes' , string_recursive_tag) \n",
    "        \n",
    "\n",
    "        points_tags = self.get_labels_point_nodes(**kwargs)\n",
    "        df_points_tag= pd.DataFrame(points_tags, columns= ['Points', 'Tag'])\n",
    "        df_points_tag['Final_tag']= df_points_tag['Tag'].apply(lambda l :retag_from_strings(l) )\n",
    "        if func_level_nodes == string_recursive_tag:\n",
    "            levels_id = df_points_tag['Final_tag'].apply(lambda l: func_level_nodes( l,tree_rec= self,**kwargs))\n",
    "        else:\n",
    "            levels_id = df_points_tag['Final_tag'].apply(lambda l: func_level_nodes( l,**kwargs))\n",
    "        df_points_tag['level'] = levels_id.apply(lambda l: l[0])\n",
    "        df_points_tag['cluster_id'] = levels_id.apply(lambda l: l[1])\n",
    "        return df_points_tag\n",
    "\n",
    "    ########################Noise signal tree \n",
    "    def get_tag_noise_signal_tree(self):\n",
    "        \n",
    "        \"\"\"\n",
    "        Get the tags for each point in the cluster node \n",
    "        Returns all noise level tags \n",
    "        :returns: A dataframe with the tags of the all the points. \n",
    "        \"\"\"\n",
    "        ### tag for each level \n",
    "        all_point_tag_levels= []\n",
    "        for num,  level in enumerate(self.levels_nodes):\n",
    "            for node in level:\n",
    "                all_point_tag_levels = all_point_tag_levels+ [ (i[0],'1_'*num +i[1]) for i in node.tag_low_level_noise_signal()]\n",
    "        #### Names a\n",
    "        df_tags= pd.DataFrame(zip([i[0] for i in all_point_tag_levels],\n",
    "                                  [i[1] for i in all_point_tag_levels] ),\n",
    "                              columns= ['Points', 'Final_tag']) \n",
    "\n",
    "        df_tags['concat_tags'] =  df_tags['Final_tag'].apply(lambda l:\n",
    "                                                        '_'.join(l.split('_')+['noise']*(len(self.levels_nodes)-len(l.split('_'))))\n",
    "                                                    )\n",
    "        df_tags['concat_tags_signal'] = df_tags['concat_tags']\n",
    "        \n",
    "        return df_tags\n",
    "    \n"
   ]
  },
  {
   "cell_type": "code",
   "execution_count": 4,
   "id": "c367774a-e4d4-4fab-a823-970b4408bf0e",
   "metadata": {},
   "outputs": [],
   "source": [
    "#hide \n",
    "tree = tree_clusters(3, random_seed= 123)"
   ]
  },
  {
   "cell_type": "markdown",
   "id": "39975d0b-0765-41e2-aeb8-ffd5325ed5b4",
   "metadata": {},
   "source": [
    "## Methods\n",
    "The following are the mos important methos inside the `tree_clusters` class"
   ]
  },
  {
   "cell_type": "markdown",
   "id": "a47297dd-c146-417a-87c6-c5ede3aee726",
   "metadata": {},
   "source": [
    "### Counstruct tree "
   ]
  },
  {
   "cell_type": "code",
   "execution_count": 18,
   "id": "d178d71d-68e9-49c4-b1e6-7c7ce8498ff5",
   "metadata": {},
   "outputs": [
    {
     "data": {
      "text/markdown": [
       "<h4 id=\"tree_clusters.__init__\" class=\"doc_header\"><code>tree_clusters.__init__</code><a href=\"__main__.py#L6\" class=\"source_link\" style=\"float:right\">[source]</a></h4>\n",
       "\n",
       "> <code>tree_clusters.__init__</code>(**`levels`**=*`None`*, **`r_name`**=*`'Root'`*, **`level_str`**=*`'l_'`*, **`node_str`**=*`'n_'`*, **\\*\\*`kwargs`**)\n",
       "\n",
       "Build the tree \n",
       "\n",
       ":param int levels: Number of leevels in the tree (Default =None) \n",
       "\n",
       ":param str r_name : String to root label (Default= 'Root')\n",
       "\n",
       ":param str level_str: String to name the levels (Default= 'l_')\n",
       "\n",
       ":param str node_str: String to name the nodes (Default ='n_')\n",
       "\n",
       ":param double random_seed:"
      ],
      "text/plain": [
       "<IPython.core.display.Markdown object>"
      ]
     },
     "metadata": {},
     "output_type": "display_data"
    }
   ],
   "source": [
    "show_doc(tree_clusters.__init__)"
   ]
  },
  {
   "cell_type": "code",
   "execution_count": 17,
   "id": "ba832fc5-1c06-49ba-924d-52279ce59526",
   "metadata": {},
   "outputs": [
    {
     "data": {
      "text/markdown": [
       "<h4 id=\"tree_clusters.populate_tree\" class=\"doc_header\"><code>tree_clusters.populate_tree</code><a href=\"__main__.py#L75\" class=\"source_link\" style=\"float:right\">[source]</a></h4>\n",
       "\n",
       "> <code>tree_clusters.populate_tree</code>(**`number_per_cluster`**=*`None`*, **`density_init`**=*`None`*, **`factor_density`**=*`3`*, **`density_init_list`**=*`None`*, **\\*\\*`kwargs`**)\n",
       "\n",
       "Populate the tree_cluster structure, populate each node \n",
       "inside the tree_clusters using random ranges.\n",
       "\n",
       ":param int number_per_cluster: Number of point per cluster (Default= None)\n",
       "\n",
       ":param double density_init: Initial density of the tree (Default= None)\n",
       "\n",
       ":param double factor_density: Factor to increase density (Default = 3)         \n",
       "\n",
       ":returns None:"
      ],
      "text/plain": [
       "<IPython.core.display.Markdown object>"
      ]
     },
     "metadata": {},
     "output_type": "display_data"
    }
   ],
   "source": [
    "show_doc(tree_clusters.populate_tree)"
   ]
  },
  {
   "cell_type": "markdown",
   "id": "89d85cdc-a318-4de9-9251-a33f01e0f601",
   "metadata": {},
   "source": [
    "### Tree Values "
   ]
  },
  {
   "cell_type": "code",
   "execution_count": 16,
   "id": "5cbf3ea1-feee-4a9d-9548-4e92173c563c",
   "metadata": {},
   "outputs": [
    {
     "data": {
      "text/markdown": [
       "<h4 id=\"tree_clusters.get_deepth\" class=\"doc_header\"><code>tree_clusters.get_deepth</code><a href=\"__main__.py#L234\" class=\"source_link\" style=\"float:right\">[source]</a></h4>\n",
       "\n",
       "> <code>tree_clusters.get_deepth</code>()\n",
       "\n",
       "Returns the deepth of the tree"
      ],
      "text/plain": [
       "<IPython.core.display.Markdown object>"
      ]
     },
     "metadata": {},
     "output_type": "display_data"
    }
   ],
   "source": [
    "show_doc(tree_clusters.get_deepth)"
   ]
  },
  {
   "cell_type": "code",
   "execution_count": 10,
   "id": "239d2e6b-0513-4df7-8ad2-3a84f9c0e127",
   "metadata": {},
   "outputs": [
    {
     "data": {
      "text/markdown": [
       "<h4 id=\"tree_clusters.size\" class=\"doc_header\"><code>tree_clusters.size</code><a href=\"__main__.py#L244\" class=\"source_link\" style=\"float:right\">[source]</a></h4>\n",
       "\n",
       "> <code>tree_clusters.size</code>()\n",
       "\n",
       "Returns the number of node in the tree"
      ],
      "text/plain": [
       "<IPython.core.display.Markdown object>"
      ]
     },
     "metadata": {},
     "output_type": "display_data"
    }
   ],
   "source": [
    "show_doc(tree_clusters.size)"
   ]
  },
  {
   "cell_type": "code",
   "execution_count": 11,
   "id": "8f12b121-55f9-4eb1-8dbf-8e5001f25159",
   "metadata": {},
   "outputs": [
    {
     "data": {
      "text/markdown": [
       "<h4 id=\"tree_clusters.size_points\" class=\"doc_header\"><code>tree_clusters.size_points</code><a href=\"__main__.py#L253\" class=\"source_link\" style=\"float:right\">[source]</a></h4>\n",
       "\n",
       "> <code>tree_clusters.size_points</code>()\n",
       "\n",
       "Returns the number of points in the tree "
      ],
      "text/plain": [
       "<IPython.core.display.Markdown object>"
      ]
     },
     "metadata": {},
     "output_type": "display_data"
    }
   ],
   "source": [
    "show_doc(tree_clusters.size_points)"
   ]
  },
  {
   "cell_type": "markdown",
   "id": "3effa434-f4c8-4b86-8d10-60890fc09df3",
   "metadata": {},
   "source": [
    "### Points "
   ]
  },
  {
   "cell_type": "code",
   "execution_count": 7,
   "id": "84b594d6-322b-4143-a19d-e97c97fadc70",
   "metadata": {},
   "outputs": [
    {
     "data": {
      "text/markdown": [
       "<h4 id=\"tree_clusters.get_points_tree\" class=\"doc_header\"><code>tree_clusters.get_points_tree</code><a href=\"__main__.py#L89\" class=\"source_link\" style=\"float:right\">[source]</a></h4>\n",
       "\n",
       "> <code>tree_clusters.get_points_tree</code>(**`level`**=*`None`*, **`iterative`**=*`False`*)\n",
       "\n",
       "Return  all the point in the tree"
      ],
      "text/plain": [
       "<IPython.core.display.Markdown object>"
      ]
     },
     "metadata": {},
     "output_type": "display_data"
    }
   ],
   "source": [
    "show_doc(tree_clusters.get_points_tree)\n"
   ]
  },
  {
   "cell_type": "markdown",
   "id": "ddd87c84-0acd-4c5c-89b4-85f59e7e77fb",
   "metadata": {},
   "source": [
    "### Visualize\n"
   ]
  },
  {
   "cell_type": "code",
   "execution_count": 12,
   "id": "c8262e18-aca0-4ca6-9f6e-0c520cc83ea3",
   "metadata": {},
   "outputs": [
    {
     "data": {
      "text/markdown": [
       "<h4 id=\"tree_clusters.print_structure\" class=\"doc_header\"><code>tree_clusters.print_structure</code><a href=\"__main__.py#L147\" class=\"source_link\" style=\"float:right\">[source]</a></h4>\n",
       "\n",
       "> <code>tree_clusters.print_structure</code>()\n",
       "\n",
       "print the tree structure\n",
       "        "
      ],
      "text/plain": [
       "<IPython.core.display.Markdown object>"
      ]
     },
     "metadata": {},
     "output_type": "display_data"
    }
   ],
   "source": [
    "show_doc(tree_clusters.print_structure)"
   ]
  },
  {
   "cell_type": "code",
   "execution_count": 13,
   "id": "9acb46b4-a254-4b1c-86f0-488dab8c72e0",
   "metadata": {},
   "outputs": [
    {
     "data": {
      "text/markdown": [
       "<h4 id=\"tree_clusters.visualize\" class=\"doc_header\"><code>tree_clusters.visualize</code><a href=\"__main__.py#L157\" class=\"source_link\" style=\"float:right\">[source]</a></h4>\n",
       "\n",
       "> <code>tree_clusters.visualize</code>(**`axs`**, **`colors_levels`**=*`None`*, **\\*\\*`kwargs`**)\n",
       "\n"
      ],
      "text/plain": [
       "<IPython.core.display.Markdown object>"
      ]
     },
     "metadata": {},
     "output_type": "display_data"
    }
   ],
   "source": [
    "show_doc(tree_clusters.visualize)"
   ]
  },
  {
   "cell_type": "code",
   "execution_count": 14,
   "id": "3b6acd5d-ee6d-4ae9-a6ce-c002a9471fbb",
   "metadata": {},
   "outputs": [
    {
     "data": {
      "text/markdown": [
       "<h4 id=\"tree_clusters.visualize_levels\" class=\"doc_header\"><code>tree_clusters.visualize_levels</code><a href=\"__main__.py#L179\" class=\"source_link\" style=\"float:right\">[source]</a></h4>\n",
       "\n",
       "> <code>tree_clusters.visualize_levels</code>(**`axs`**, **\\*\\*`kwargs`**)\n",
       "\n"
      ],
      "text/plain": [
       "<IPython.core.display.Markdown object>"
      ]
     },
     "metadata": {},
     "output_type": "display_data"
    }
   ],
   "source": [
    "show_doc(tree_clusters.visualize_levels)"
   ]
  },
  {
   "cell_type": "code",
   "execution_count": null,
   "id": "5322caa7-c6bf-4c01-830f-997ed30efbce",
   "metadata": {},
   "outputs": [],
   "source": []
  }
 ],
 "metadata": {
  "kernelspec": {
   "display_name": "Python 3 (ipykernel)",
   "language": "python",
   "name": "python3"
  },
  "language_info": {
   "codemirror_mode": {
    "name": "ipython",
    "version": 3
   },
   "file_extension": ".py",
   "mimetype": "text/x-python",
   "name": "python",
   "nbconvert_exporter": "python",
   "pygments_lexer": "ipython3",
   "version": "3.7.12"
  }
 },
 "nbformat": 4,
 "nbformat_minor": 5
}
