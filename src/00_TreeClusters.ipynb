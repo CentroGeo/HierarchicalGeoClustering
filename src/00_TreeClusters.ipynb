{
 "cells": [
  {
   "cell_type": "code",
   "execution_count": null,
   "metadata": {},
   "outputs": [],
   "source": [
    "#| default_exp TreeClusters"
   ]
  },
  {
   "cell_type": "markdown",
   "metadata": {},
   "source": [
    "# Cluster Tree"
   ]
  },
  {
   "cell_type": "markdown",
   "metadata": {},
   "source": [
    "Basic classes to generate a clusters tree structure make a Hierarchical Geo Clustering analisys. "
   ]
  },
  {
   "cell_type": "code",
   "execution_count": null,
   "metadata": {},
   "outputs": [],
   "source": [
    "#| hide\n",
    "from nbdev.showdoc import *\n",
    "import warnings\n",
    "warnings.simplefilter('ignore')"
   ]
  },
  {
   "cell_type": "code",
   "execution_count": null,
   "metadata": {},
   "outputs": [],
   "source": [
    "#| export\n",
    "import sklearn\n",
    "from sklearn import cluster, datasets\n",
    "import anytree\n",
    "import random\n",
    "import numpy as np\n",
    "import shapely\n",
    "import pandas as pd\n",
    "import re\n",
    "import math\n",
    "import matplotlib\n",
    "import matplotlib.pyplot as plt\n",
    "from shapely.geometry import LineString\n",
    "from shapely.ops import polygonize, cascaded_union\n",
    "from shapely.geometry import box\n",
    "from shapely.geometry import Point, Polygon, MultiPolygon\n",
    "from shapely.ops import polygonize_full, linemerge, unary_union\n",
    "from matplotlib import cm\n",
    "from anytree import NodeMixin, RenderTree\n"
   ]
  },
  {
   "cell_type": "code",
   "execution_count": null,
   "metadata": {},
   "outputs": [],
   "source": [
    "#| export\n",
    "def inside_polygon(list_points, poligon_check, min_percent):\n",
    "    \"\"\"\n",
    "    Help function to validate the number of points that are inside the polygon \n",
    "    \n",
    "    :param list list_points: List of points to consider \n",
    "    \n",
    "    :param shapely.geometry.Polygon poligon_check:   \n",
    "    \n",
    "    :param min_percent: Minimun percent of point to be consider inside \n",
    "    \n",
    "    :returns tuple: (bool, list of point inside).   \n",
    "    \"\"\"\n",
    "    if len(list_points)< 2:\n",
    "        return False\n",
    "    inside = [i for i in list_points if poligon_check.contains(i) ]\n",
    "    #print(len(inside))\n",
    "    if len(inside) > int(min_percent*len(list_points)):\n",
    "        \n",
    "        return True , inside\n",
    "    else: \n",
    "\n",
    "        return False , inside"
   ]
  },
  {
   "cell_type": "code",
   "execution_count": null,
   "metadata": {},
   "outputs": [
    {
     "data": {
      "text/plain": [
       "(True,\n",
       " [<shapely.geometry.point.Point>,\n",
       "  <shapely.geometry.point.Point>,\n",
       "  <shapely.geometry.point.Point>,\n",
       "  <shapely.geometry.point.Point>])"
      ]
     },
     "execution_count": null,
     "metadata": {},
     "output_type": "execute_result"
    }
   ],
   "source": [
    "#| hide \n",
    "#### test the function\n",
    "pol_square = shapely.geometry.Polygon(((0., 0.), (0., 1.), (1., 1.), (1., 0.), (0., 0.)))\n",
    "list_points =[shapely.geometry.Point(0.25, 0.25 ),\n",
    "              shapely.geometry.Point(0.75, 0.25 ),\n",
    "              shapely.geometry.Point(0.75,0.75 ),\n",
    "              shapely.geometry.Point(0.25,0.75 ), \n",
    "              shapely.geometry.Point(1.25,1.75 ),\n",
    "             ]\n",
    "inside_polygon(list_points, pol_square, .75) ### sould return true and 4 element inside the list\n"
   ]
  },
  {
   "cell_type": "code",
   "execution_count": null,
   "metadata": {},
   "outputs": [],
   "source": [
    "#| export\n",
    "def poligon_non_convex_from_Points( points_li ):\n",
    "    \"\"\"\n",
    "    Create a random (no convex) poligon from the points\n",
    "    The algorithm returns a polygon creatated from the points, the \n",
    "    non convex part it is not always guaranteed.\n",
    "    \n",
    "    :param list points_li: list of shapely.geometry.Point \n",
    "    \n",
    "    :returns shapely.grometry.Polygon: The polygon created \n",
    "    \"\"\"\n",
    "    \n",
    "    triangles = shapely.ops.triangulate(shapely.geometry.Polygon(points_li))\n",
    "    Pol = shapely.geometry.Polygon(points_li).convex_hull\n",
    "    remove_triangles = []\n",
    "    keep_triangles = []\n",
    "    for i in triangles:\n",
    "        inter = Pol.exterior.intersection(i)\n",
    "        if type(inter) == shapely.geometry.linestring.LineString and inter.length != 0.0:\n",
    "            remove_triangles.append(i)\n",
    "        else:\n",
    "            keep_triangles.append(i)\n",
    "    return shapely.ops.cascaded_union(keep_triangles)"
   ]
  },
  {
   "cell_type": "code",
   "execution_count": null,
   "metadata": {},
   "outputs": [
    {
     "data": {
      "image/svg+xml": [
       "<svg xmlns=\"http://www.w3.org/2000/svg\" xmlns:xlink=\"http://www.w3.org/1999/xlink\" width=\"100.0\" height=\"100.0\" viewBox=\"0.0077915553862452636 -0.018414770589123053 0.8097385612443211 1.0554531051773228\" preserveAspectRatio=\"xMinYMin meet\"><g transform=\"matrix(1,0,0,-1,0,1.0186235639990766)\"><path fill-rule=\"evenodd\" fill=\"#66cc99\" stroke=\"#555555\" stroke-width=\"0.021109062103546457\" opacity=\"0.6\" d=\"M 0.11608180671077495,0.6426594654694091 L 0.06699779368028869,0.8260547174104009 L 0.28423759712198116,0.6393038597484955 L 0.34916268006395546,0.9119557443648169 L 0.7784392608832582,0.9979474788408914 L 0.7340507902578561,0.6908125244989228 L 0.4445036395380274,0.5881363600695353 L 0.353919984428677,0.18364278336714412 L 0.17358991521797817,0.020676085158185198 L 0.046882411133553514,0.44732493069162416 L 0.11608180671077495,0.6426594654694091 z\" /></g></svg>"
      ],
      "text/plain": [
       "<shapely.geometry.polygon.Polygon>"
      ]
     },
     "execution_count": null,
     "metadata": {},
     "output_type": "execute_result"
    }
   ],
   "source": [
    "#| hide\n",
    "x = [random.uniform(0, 1) for i in range(10)]\n",
    "y = [random.uniform(0, 1) for i in range(10)]\n",
    "poligon_non_convex_from_Points([shapely.geometry.Point(l[0], l[1])  for l in  zip(x,y)] )"
   ]
  },
  {
   "cell_type": "code",
   "execution_count": null,
   "metadata": {},
   "outputs": [],
   "source": [
    "#| export \n",
    "def poligon_non_convex_random_gen(npoints):\n",
    "    \"\"\"\n",
    "    Create a random (no convex) poligon from n points\n",
    "    The algorithm returns a polygon creatated from n random 2d points the \n",
    "    non convex part it is not always guaranteed.\n",
    "    \n",
    "    :param int npoints: Number of point to generate the polygon \n",
    "    \n",
    "    :returns shapely.geometry.Polygon: The polygon created\n",
    "    \"\"\"\n",
    "    points_r = np.random.random((npoints, 2))\n",
    "    triangles = shapely.ops.triangulate(shapely.geometry.Polygon(points_r))\n",
    "    Pol = shapely.geometry.Polygon(points_r).convex_hull\n",
    "    remove_triangles = []\n",
    "    keep_triangles = []\n",
    "    for i in triangles:\n",
    "        inter = Pol.exterior.intersection(i)\n",
    "        if type(inter) == shapely.geometry.linestring.LineString and inter.length != 0.0:\n",
    "            remove_triangles.append(i)\n",
    "        else:\n",
    "            keep_triangles.append(i)\n",
    "    return shapely.ops.cascaded_union(keep_triangles)"
   ]
  },
  {
   "cell_type": "code",
   "execution_count": null,
   "metadata": {},
   "outputs": [
    {
     "data": {
      "image/svg+xml": [
       "<svg xmlns=\"http://www.w3.org/2000/svg\" xmlns:xlink=\"http://www.w3.org/1999/xlink\" width=\"100.0\" height=\"100.0\" viewBox=\"-0.01838713932512931 -0.015211473746536142 0.9176072976239467 1.044929719647909\" preserveAspectRatio=\"xMinYMin meet\"><g transform=\"matrix(1,0,0,-1,0,1.0145067721548369)\"><path fill-rule=\"evenodd\" fill=\"#66cc99\" stroke=\"#555555\" stroke-width=\"0.02089859439295818\" opacity=\"0.6\" d=\"M 0.09329579789422215,0.780532531907845 L 0.032450746023961474,0.9910171451736726 L 0.2759570939071446,0.9854585153725216 L 0.7070195897795863,0.9765722148461894 L 0.8010243207404291,0.8186370887672269 L 0.860519057571117,0.8061684733114406 L 0.5521781408142431,0.19892063290633522 L 0.5107548853673575,0.02348962698116419 L 0.1078990461757684,0.39292048235484434 L 0.020313961402571024,0.6870950484606253 L 0.09329579789422215,0.780532531907845 z\" /></g></svg>"
      ],
      "text/plain": [
       "<shapely.geometry.polygon.Polygon>"
      ]
     },
     "execution_count": null,
     "metadata": {},
     "output_type": "execute_result"
    }
   ],
   "source": [
    "#| hide\n",
    "poligon_non_convex_random_gen(20)"
   ]
  },
  {
   "cell_type": "code",
   "execution_count": null,
   "metadata": {},
   "outputs": [],
   "source": [
    "#| hide\n",
    "#| export\n",
    "def string_recursive_tag( string_tag, **kwargs):\n",
    "    \"\"\"\n",
    "    params: level_str level string\n",
    "    params: until_level_str level string finish\n",
    "    params: node_str node string \n",
    "    params: until_node_str node string finish\n",
    "    params: noise_str nois string\n",
    "    params: tree_rec tree to obtain the final cluster id\n",
    "    \n",
    "    returns level and cluster id from the tag using a tree \n",
    "    \"\"\"\n",
    "    \n",
    "    level_str = kwargs.get('level_str', '_L_' )\n",
    "    until_level_str = kwargs.get('until_level_str', '_l_')\n",
    "    node_str  = kwargs.get('node_str', '_l_')\n",
    "    until_node_str = kwargs.get('until_node_str', '_c_')\n",
    "    noise_str= kwargs.get ('noise_str', '_noise')\n",
    "    tree = kwargs.get( 'tree_rec', None)\n",
    "    ### Level\n",
    "    positions_level = [ i.start() for i in re.finditer( level_str, string_tag )]\n",
    "    until_level_pos = [ i.start() for i in re.finditer( until_level_str, string_tag )]\n",
    "    levels = [string_tag[ i + len(level_str):j] for i, j in zip(positions_level, until_level_pos) ]\n",
    "    ### Node\n",
    "    nodeid_positions = [i.start() for i in re.finditer( node_str, string_tag )]\n",
    "    until_node_posicion = [i.start() for i in re.finditer( until_node_str,  string_tag) ]\n",
    "    nodeid = [string_tag[i+len(node_str):j ] for i,j in zip(nodeid_positions, until_node_posicion)]\n",
    "    \n",
    "    \n",
    "    string_find= string_tag[:string_tag.rfind(noise_str)]\n",
    "    if len(levels)==1:\n",
    "        level_f= tree.get_level(int(levels[-1]))\n",
    "        for j in level_f :\n",
    "            for num, i in enumerate(j.children):\n",
    "                if i.name == string_find:\n",
    "                    nodeid.append(str(num))\n",
    "    elif len(levels)>=2:\n",
    "        nodeid = nodeid[1:]\n",
    "        #print(levels[-2])\n",
    "        #print(nodeid[-1])\n",
    "        #print(string_tag)\n",
    "\n",
    "        for num, i in enumerate(tree.get_node(level_int= int(levels[-2]), node_int=int(nodeid[-1]) ).children) :\n",
    "            #print(i.name)\n",
    "            if i.name == string_find:\n",
    "                nodeid.append(str(num))\n",
    "    return levels, nodeid"
   ]
  },
  {
   "cell_type": "code",
   "execution_count": null,
   "metadata": {},
   "outputs": [],
   "source": [
    "#| hide\n",
    "#| export\n",
    "def retag_from_strings(string_tag) :\n",
    "    \"\"\"\n",
    "    Returns only the final node tag\n",
    "    \"\"\"\n",
    "    valure = string_tag.rfind('+') \n",
    "    if  valure!= -1 :\n",
    "        tag_recal =string_tag [valure+1:]  \n",
    "    else :\n",
    "        tag_recal = string_tag\n",
    "    return tag_recal\n"
   ]
  },
  {
   "cell_type": "code",
   "execution_count": null,
   "metadata": {},
   "outputs": [],
   "source": [
    "#| hide\n",
    "#| export \n",
    "class cluster(object):\n",
    "    \"\"\"\n",
    "    A Basic class of a cluster \n",
    "    \"\"\"\n",
    "    polygon_cluster = None\n",
    "    point_cluster_noise = None\n",
    "\n",
    "    def __init__(self):\n",
    "        self.polygon_cluster = None\n",
    "        self.density = None\n",
    "        self.point_cluster_noise = None\n",
    "    "
   ]
  },
  {
   "cell_type": "code",
   "execution_count": null,
   "metadata": {},
   "outputs": [],
   "source": [
    "#| hide\n",
    "clus=cluster()"
   ]
  },
  {
   "cell_type": "markdown",
   "metadata": {},
   "source": [
    "## NodeCluster \n",
    "The class has all the methods to create and visualize a cluster. "
   ]
  },
  {
   "cell_type": "code",
   "execution_count": null,
   "metadata": {},
   "outputs": [],
   "source": [
    "#| export \n",
    "class NodeCluster(cluster, NodeMixin):\n",
    "    def __init__(self, \n",
    "                name,\n",
    "                density=None,\n",
    "                parent=None,\n",
    "                children=None):\n",
    "        \"\"\"\n",
    "        Constructor of the class\n",
    "        \n",
    "        :param str name: Name of the cluster\n",
    "        \n",
    "        :param double density: Density of the cluster (Default =None)\n",
    "        \n",
    "        :param NodeCluster parent: Cluster parent (Default = None)\n",
    "        \n",
    "        :param list children: List of its children (Default =None)\n",
    "        \n",
    "        \"\"\"\n",
    "        \n",
    "        super(cluster, self).__init__()\n",
    "        self.name = name\n",
    "        self.parent = parent\n",
    "        self.polygon_cluster = None\n",
    "        if children:\n",
    "             self.children = children\n",
    "\n",
    "    \n",
    "    def populate_cluster(self,\n",
    "                    from_points_num=20,\n",
    "                    density=None,\n",
    "                    num_points=None,\n",
    "                    min_scale_x= .1,\n",
    "                    max_scale_x=.5,\n",
    "                    min_scale_y= .1,\n",
    "                    max_scale_y=.5,\n",
    "                    random_state= 170, \n",
    "                    **kwargs\n",
    "                    ):\n",
    "        \"\"\"\n",
    "        Populate the cluster on random bases \n",
    "        \n",
    "        :param int random_state: Random state \n",
    "        \n",
    "        :param double min_scale_x: min x value range ( Default=.1 )\n",
    "        \n",
    "        :param double max_scale_x: max x value range ( Default=.5 )\n",
    "        \n",
    "        :param double min_scale_y: min y value range ( Default=.1 )\n",
    "        \n",
    "        :param double max_scale_y: max y value range ( Default=.5 )\n",
    "        \"\"\"\n",
    "        self.density = density\n",
    "        random.seed(random_state) ## initialize random state \n",
    "        avoid_intersec= kwargs.get('avoid_intersec', False)\n",
    "        if self.parent is None:\n",
    "            self.polygon_cluster = self.create_polygon(from_points_num)\n",
    "            new_pol_x_min, new_pol_y_min, new_pol_x_max, new_pol_y_max = self.polygon_cluster.bounds\n",
    "            self.center = shapely.geometry.Point((new_pol_x_max -new_pol_x_min)/2 + new_pol_x_min,\n",
    "                             (new_pol_y_max- new_pol_y_min)/2+new_pol_y_min)\n",
    "\n",
    "        else:\n",
    "            #### create the polygon inside the parent \n",
    "            \n",
    "            if self.parent.polygon_cluster ==None:\n",
    "                raise ValueError('The parent has no polygon')\n",
    "            \n",
    "            # print('parent name:',self.parent.name)\n",
    "            ########\n",
    "            #### Vamos a pedirle que no este en el polygono de los hijos \n",
    "            random_point_center = self.parent.get_random_points(1, random_state)[0]\n",
    "\n",
    "            #### create polygon and scale \n",
    "            \n",
    "            polygon = self.create_polygon(from_points_num)\n",
    "            new_pol_x_min, new_pol_y_min, new_pol_x_max, new_pol_y_max = polygon.bounds\n",
    "            center_polygon = shapely.geometry.Point((new_pol_x_max -new_pol_x_min)/2 + new_pol_x_min,\n",
    "                             (new_pol_y_max- new_pol_y_min)/2+new_pol_y_min)\n",
    "            translate = shapely.geometry.Point(\n",
    "                            random_point_center.x -center_polygon.x,\n",
    "                            random_point_center.y -center_polygon.y\n",
    "                            ) \n",
    "            polygon = shapely.affinity.translate( \n",
    "                        polygon, \n",
    "                        xoff = translate.x,\n",
    "                        yoff = translate.y\n",
    "                        )\n",
    "            new_pol_x_min, new_pol_y_min, new_pol_x_max, new_pol_y_max = polygon.bounds\n",
    "            esq = [\n",
    "                shapely.geometry.Point(new_pol_x_min,new_pol_y_min ),\n",
    "                shapely.geometry.Point(new_pol_x_min,new_pol_y_max ),\n",
    "                shapely.geometry.Point(new_pol_x_max,new_pol_y_min ),\n",
    "                shapely.geometry.Point(new_pol_x_max,new_pol_y_max )\n",
    "              ]\n",
    "            max_dis_esq = max([random_point_center.distance(i) for i in esq])\n",
    "            \n",
    "            ###### Scale the polygon \n",
    "            #dis_poly_parent= self.parent.polygon_cluster.exterior.distance(random_point_center)\n",
    "            \n",
    "            max_dis = self.parent.polygon_cluster.exterior.distance( random_point_center)\n",
    "\n",
    "            fact_pol = (max_dis/(1.3*max_dis_esq))\n",
    "            \n",
    "            scale_factor_max_x  = min (fact_pol, max_scale_x)\n",
    "            scale_factor_max_y  = min (fact_pol, max_scale_y)\n",
    "            \n",
    "          \n",
    "            # print('scale x:', scale_factor_max_x)\n",
    "            # print('scale y:', scale_factor_max_y)\n",
    "            ##########\n",
    "            polygon= shapely.affinity.scale( \n",
    "                polygon,\n",
    "                xfact=scale_factor_max_x,\n",
    "                yfact=scale_factor_max_y,\n",
    "                origin= random_point_center\n",
    "            )\n",
    "            \n",
    "            ###### Aqui se tiene que verificar si ha caido en alguno. \n",
    "            if avoid_intersec == False:\n",
    "                self.polygon_cluster  = polygon\n",
    "                self.center = random_point_center\n",
    "            else:\n",
    "                ### Se tiene que modificar\n",
    "                self.polygon_cluster, self.center = self.parent.polygon_not_intersec_children(random_state= random_state)\n",
    "                \n",
    "\n",
    "        ############### The points\n",
    "        if self.polygon_cluster is None:\n",
    "            raise ValueError('No polygon in the cluster')\n",
    "\n",
    "        if self.density is not None:\n",
    "            npoints_polygon  = int(self.polygon_cluster.area*density)\n",
    "            #print(npoints_polygon)\n",
    "            self.point_cluster_noise = self.create_random_points(npoints_polygon) \n",
    "        elif self.density is None and num_points is not None:\n",
    "            self.density = num_points /self.polygon_cluster.area\n",
    "            #print(num_points)\n",
    "            self.point_cluster_noise = self.create_random_points(num_points)\n",
    "        \n",
    "\n",
    "    ##### Generate random polygon\n",
    "    def create_polygon(self,  from_points_num=20):\n",
    "        \"\"\"\n",
    "        Generate a random polygon for the cluster\n",
    "        \n",
    "        :param from_points_num: The number of points to \n",
    "        generate the cluster from \n",
    "        \"\"\"\n",
    "        polygon = poligon_non_convex_random_gen(from_points_num)\n",
    "        while type(polygon) == shapely.geometry.MultiPolygon:\n",
    "            polygon = poligon_non_convex_random_gen(\n",
    "                from_points_num)\n",
    "        return polygon\n",
    "\n",
    "\n",
    "    def get_random_points(self, n_points, random_state= 150):\n",
    "        \"\"\"\n",
    "        Returns random points inside the cluster polygon\n",
    "        \n",
    "        :param n_points Number of point to be generated\n",
    "        \n",
    "        :param random_state Random state\n",
    "        \n",
    "        :returns: A list with points\n",
    "        \"\"\"\n",
    "        random.seed(random_state)\n",
    "        x_min, y_min ,x_max, y_max =self.polygon_cluster.bounds\n",
    "        ret_points= []\n",
    "        while len(ret_points)< n_points:\n",
    "            x_rand = random.uniform(x_min, x_max)\n",
    "            y_rand = random.uniform(y_min, y_max)\n",
    "            point_s =shapely.geometry.Point(x_rand, y_rand)\n",
    "            \n",
    "            if self.polygon_cluster.contains(point_s):\n",
    "                ret_points.append(point_s)\n",
    "        \n",
    "\n",
    "        return ret_points    \n",
    "    #### create random_points\n",
    "    def create_random_points(self, npoints_polygon=1000, random_state = 120):\n",
    "        \"\"\"\n",
    "        Create random points \n",
    "        \n",
    "        :param npoints_polygon Number of point to get\n",
    "        \n",
    "        :random_state Random state integer to ste random\n",
    "        \n",
    "        :returns: A shapely multyPoint clas witn npoints_polygon points\n",
    "        \n",
    "        \"\"\"\n",
    "        random.seed(random_state)\n",
    "        minx_b, miny_b, maxx_b, maxy_b = self.polygon_cluster.bounds\n",
    "        point_cluster_noise = []\n",
    "        while len(point_cluster_noise) < npoints_polygon:\n",
    "            points_cluster = np.random.random_sample(\n",
    "                (int(npoints_polygon*1.2), 2))\n",
    "            points_cluster[:, 0] = (maxx_b - minx_b) * \\\n",
    "                points_cluster[:, 0] + minx_b\n",
    "            points_cluster[:, 1] = (maxy_b - miny_b) * \\\n",
    "                points_cluster[:, 1] + miny_b\n",
    "            points_cluster = shapely.geometry.MultiPoint(list(points_cluster))\n",
    "            points_cluster_o = [p for p in points_cluster if\n",
    "                                self.polygon_cluster.contains(p)\n",
    "                                ]\n",
    "            point_cluster_noise = point_cluster_noise + points_cluster_o\n",
    "\n",
    "        point_cluster_noise = shapely.geometry.MultiPoint(point_cluster_noise[:npoints_polygon])\n",
    "        \n",
    "        return point_cluster_noise\n",
    "\n",
    "\n",
    "\n",
    "\n",
    "    def scale(self,x_scale, y_scale, center_scale= 'center'):\n",
    "        \"\"\"\n",
    "        Scale the points in the cluster \n",
    "        \n",
    "        :param x_scale Scale factor to scale in x axis\n",
    "        \n",
    "        :param y_scale Scale factor to scale in y axis\n",
    "        \n",
    "        :param center_scale Scale center point  (Default = 'center')\n",
    "        \n",
    "        :returns: No returns\n",
    "        \"\"\"\n",
    "        if self.point_cluster_noise is not None:\n",
    "            self.point_cluster_noise = shapely.affinity.scale(\n",
    "                                    self.point_cluster_noise,\n",
    "                                    xfact=  x_scale,\n",
    "                                    yfact=  y_scale,\n",
    "                                    origin = center_scale\n",
    "                                    )\n",
    "        if  self.polygon_cluster is not None:\n",
    "            self.polygon_cluster = shapely.affinity.scale(\n",
    "                                    self.polygon_cluster,\n",
    "                                    xfact=  x_scale,\n",
    "                                    yfact=  y_scale,\n",
    "                                    origin = center_scale\n",
    "                                    ) \n",
    "        ########Se deberian escalar todos #2 sus nodos hijos\n",
    "        # \n",
    "    \n",
    "    def get_density(self):\n",
    "        \"\"\"\n",
    "        Get the density of the cluster \n",
    "        \n",
    "        :returns double: The density of the node\n",
    "        \"\"\"\n",
    "        if self.density is not None:\n",
    "            return self.density\n",
    "        else:\n",
    "            if self.polygon_cluster is None:\n",
    "                print(\"Cluster has no polygon\")\n",
    "                self.density = None\n",
    "                return self.density\n",
    "            else:\n",
    "                if self.polygon_cluster is not None:\n",
    "                    if self.point_cluster_noise is None:\n",
    "                        print('the node has no points')\n",
    "                        return 0\n",
    "                    else:\n",
    "                        self.density = len(self.point_cluster_noise)/self.polygon_cluster.area\n",
    "                        return self.density\n",
    "\n",
    "            \n",
    "            \n",
    "\n",
    "\n",
    "    ###### Get center\n",
    "    \n",
    "    def get_center(self):\n",
    "        \"\"\"\n",
    "        Get the center of the bounding box poligon\n",
    "        \n",
    "        :returns: Shapely Point center \n",
    "        \"\"\"\n",
    "        if self.center is not None:\n",
    "            return self.center\n",
    "        else:\n",
    "            if self.polygon_cluster is None:\n",
    "                print(\"Cluster has no polygon\")\n",
    "                return None\n",
    "            else:\n",
    "                bou = new.polygon_cluster.bounds\n",
    "                x=(bou[2]-bou[0])/2\n",
    "                y=(bou[3]-bou[1])/2\n",
    "                self.center = shapely.geometry.Point(x,y)\n",
    "                return self.center\n",
    "             \n",
    "    \n",
    "\n",
    "\n",
    "    ##### Get Points get the noise points of the cluster\n",
    "    def get_points(self, all_tag = False ):\n",
    "        \"\"\" \n",
    "        Returns the noise point of the cluster, if all_tag is set true returns  \n",
    "        all the points of the its decendents\n",
    "        \"\"\"\n",
    "        if all_tag == False:\n",
    "            return self.point_cluster_noise\n",
    "        else :\n",
    "            all_points = []\n",
    "            if self.parent is None:\n",
    "                all_points.append((self.point_cluster_noise, self.name  ))\n",
    "            else:\n",
    "                all_points.append((self.point_cluster_noise, self.parent.name + '_' +self.name))\n",
    "            \n",
    "            for child in self.children:\n",
    "                all_points= all_points + child.get_points(all_tag = all_tag)\n",
    "\n",
    "        return  all_points\n",
    "    \n",
    "    def get_point_decendent(self):\n",
    "        \"\"\"\n",
    "        Returns all the point of the node and its decendents\n",
    "        \n",
    "        \"\"\"\n",
    "        all_p  = []\n",
    "        all_p= all_p+ [i for i in self.get_points()]\n",
    "        for child in self.children:\n",
    "            all_p= all_p +child.get_point_decendent()\n",
    "        return all_p\n",
    "\n",
    "\n",
    "    ######Tag the points \n",
    "    def tag_low_level(self, point_check= None):\n",
    "        \"\"\"\n",
    "        The tag the element of the node using the labels noise or the child name\n",
    "        as a tag, if a set of point is pass (point_check != None)  \n",
    "        the elements are treated as part of the cluster and label it accordingly. \n",
    "        :params self \n",
    "        :params point_check A list MultiPoint or list with Points to tag \n",
    "        \"\"\"        \n",
    "        \n",
    "        if point_check is None:\n",
    "            all_points_cluster = self.get_points()\n",
    "        else:\n",
    "            #all_points_cluster = self.get_points()\n",
    "            all_points_cluster = point_check\n",
    "        # print('Leng to check:', len(all_points_cluster))\n",
    "        all_point_tag = []\n",
    "        for point in all_points_cluster:\n",
    "            point_tag= ''\n",
    "            for id_child, child in enumerate(self.children):\n",
    "                if child.polygon_cluster.contains(point):\n",
    "                    if child.name is None:\n",
    "                        point_tag = point_tag+str(id_child)\n",
    "                    else:\n",
    "                        if point_tag== '':\n",
    "                            point_tag = child.name\n",
    "                        else:\n",
    "                            point_tag = point_tag +'_'+ child.name \n",
    "                \n",
    "            if point_tag=='':\n",
    "                    point_tag = self.name+'_'+'noise'\n",
    "            all_point_tag.append((point,point_tag))\n",
    "        return all_point_tag\n",
    "#######\n",
    "##############tag level\n",
    "\n",
    "    def tag_low_level_noise_signal(self, point_check= None):\n",
    "        \"\"\"\n",
    "        The tag the element of the node using the labels noise or signal\n",
    "        as a tag, if a set of point is pass (point_check != None)  \n",
    "        the elements are treated as part of the cluster and label it\n",
    "        accordingly.\n",
    "        \n",
    "        :params list point_check: A list of shapely Points to tag (if None \n",
    "                            tags the points inside the cluster) \n",
    "        \n",
    "        :returns: A list of tuples (points , tag)\n",
    "        \"\"\"         \n",
    "        if point_check is None:\n",
    "            all_points_cluster = self.get_points()\n",
    "        else:\n",
    "            #all_points_cluster = self.get_points()\n",
    "            all_points_cluster = point_check\n",
    "        # print('Leng to check:', len(all_points_cluster))\n",
    "        all_point_tag = []\n",
    "        for point in all_points_cluster:\n",
    "            point_tag= ''\n",
    "            for id_child, child in enumerate(self.children):\n",
    "                if child.polygon_cluster.contains(point):\n",
    "                    if child.name is None:\n",
    "                        point_tag = point_tag+'1'\n",
    "                    else:\n",
    "                        if point_tag== '':\n",
    "                            point_tag = '1'\n",
    "                        else:\n",
    "                            point_tag = point_tag +'_'+ '1' \n",
    "                \n",
    "            if point_tag=='':\n",
    "                point_tag = 'noise'\n",
    "            all_point_tag.append((point,point_tag))\n",
    "        return all_point_tag\n",
    "\n",
    "    #### iterative tag \n",
    "    def tag_all_point(self, to_tag = None):\n",
    "        \"\"\"\n",
    "        Returns all the points and the points of it decendents tag, \n",
    "        the tags are the name of the nodes\n",
    "        \"\"\"\n",
    "        level_tags_self = self.tag_low_level()\n",
    "        if to_tag is not None:\n",
    "            #### to tag has to be in the same form as the return of tag_low\n",
    "            to_tag_point  = [i[0] for i in to_tag ]\n",
    "            to_tag_labels = [i[1] for i in to_tag ]\n",
    "            to_tag_point= self.tag_low_level(to_tag_point)\n",
    "            merge_labes_re_labels =zip(to_tag_point, to_tag_labels)\n",
    "            to_tag_result = [(i[0][0], i[1]+'+'+i[0][1]) for i in merge_labes_re_labels]\n",
    "            level_tags_self = level_tags_self + to_tag_result\n",
    "        \n",
    "        ### Pass to children \n",
    "        level_tags_children = [i for i in level_tags_self if self.name + '_noise' not in i[1] ]\n",
    "        not_children = [i for i in level_tags_self if self.name + '_noise' in i[1] ]\n",
    "        tag_from_children = []\n",
    "        for child in self.children:\n",
    "            # print(child.name)\n",
    "            level_tags_pass_children =  [i for i in level_tags_children if i[1] == child.name   ] \n",
    "            tag_from_children = tag_from_children + child.tag_all_point( level_tags_pass_children) \n",
    "        \n",
    "        \n",
    "        return not_children +tag_from_children\n",
    "    \n",
    "    ##################iterative tag noise signal \n",
    "    \n",
    "    def tag_all_point_noise_signal(self, to_tag = None):\n",
    "        \"\"\"\n",
    "        Returns all the points and the points of it decendents tag or\n",
    "        noise\n",
    "        \n",
    "        \"\"\"\n",
    "        level_tags_self = self.tag_low_level_noise_signal()\n",
    "        if to_tag is not None:\n",
    "            #### to tag has to be in the same form as the return of tag_low\n",
    "            to_tag_point  = [i[0] for i in to_tag ]\n",
    "            to_tag_labels = [i[1] for i in to_tag ]\n",
    "            to_tag_point= self.tag_low_level_noise_signal(to_tag_point)\n",
    "            merge_labes_re_labels =zip(to_tag_point, to_tag_labels)\n",
    "            to_tag_result = [(i[0][0], i[1]+'+'+i[0][1]) for i in merge_labes_re_labels]\n",
    "            level_tags_self = level_tags_self + to_tag_result\n",
    "        \n",
    "        ### Pass to children \n",
    "        level_tags_children = [i for i in level_tags_self if '1' in i[1] ]\n",
    "        not_children = [i for i in level_tags_self if  'noise' in i[1] ]\n",
    "        tag_from_children = []\n",
    "        for child in self.children:\n",
    "            # print(child.name)\n",
    "            level_tags_pass_children =  [i for i in level_tags_children if i[1] == '1'   ] \n",
    "            tag_from_children = tag_from_children + child.tag_all_point_noise_signal( level_tags_pass_children) \n",
    "        \n",
    "        \n",
    "        return not_children +tag_from_children\n",
    "\n",
    "\n",
    "    ######Check point for children\n",
    "    def check_point_children(self, Points_tocheck):\n",
    "        \"\"\"\n",
    "        Check if the points belong to tis children\n",
    "        \n",
    "        :param list Points_tocheck: A list of points to check \n",
    "        if they belong to it children\n",
    "        \n",
    "        :returns list: List of points that are contained in the \n",
    "        children polygons \n",
    "        \"\"\"\n",
    "        point_chek_bool=[]\n",
    "        for child in self.children:\n",
    "\n",
    "            if child.polygon_cluster is not None:\n",
    "                point_chek_bool.append([child.polygon_cluster.contains(i) for i in Points_tocheck])\n",
    "            else: \n",
    "                point_chek_bool.append([])\n",
    "        return point_chek_bool\n",
    "\n",
    "    ########## viewer\n",
    "    def viewer_cluster(self, ax,  **kwargs):\n",
    "        \"\"\"\n",
    "        Vizualization of the cluster \n",
    "        \n",
    "        :param ax: ax of a matplotlib figure\n",
    "        \n",
    "        :param int level: Level to view 0 only the points of the cluster,\n",
    "        1 the children points, -1 all decendent points  (Default = 0 )\n",
    "        \n",
    "        :param bool polygon: To draw the polygon of the cluster \n",
    "        (Default = False).\n",
    "        \n",
    "        :param bool polygon_children: Draw the poligon of its children \n",
    "        (Default = False).\n",
    "        \n",
    "        :param double size_cluster: Point size inside the cluster (noise)\n",
    "        (Default = 2)\n",
    "        \n",
    "        :param str color_cluster : matplotlib color \n",
    "        \n",
    "        :param double alpha_cluster : alpha channel (Default = 0.5) \n",
    "        \n",
    "        :param double size_children : Point size children (Default = 1)\n",
    "        \n",
    "        :param str color_children: matplotlib color\n",
    "        \n",
    "        :param double alpha_children : alpha channel (Default = 0.5) \n",
    "        \n",
    "        :param bool polygon_color_children: Plot the children polygon \n",
    "        \n",
    "        :returns : Draw into the ax.\n",
    "        \"\"\"\n",
    "        level_view = kwargs.get('level', 0 )\n",
    "        polygon_con= kwargs.get('polygon', False)\n",
    "        poligon_children = kwargs.get('polygon_children', False)\n",
    "        if level_view == 0:\n",
    "            cluster_points = self.get_points()\n",
    "            x_points_cluster =[j.x for j in cluster_points  ]\n",
    "            y_points_cluster =[j.y for j in cluster_points  ]\n",
    "            ax.scatter(x_points_cluster,y_points_cluster,\n",
    "                    s = kwargs.get('size_cluster', 2),\n",
    "                    color = kwargs.get('color_cluster', 'orange'), \n",
    "                    alpha = kwargs.get('alpha_cluster', .5)\n",
    "                    )\n",
    "        elif  level_view ==1:\n",
    "            cluster_points = self.get_points()\n",
    "            x_points_cluster =[j.x for j in cluster_points  ]\n",
    "            y_points_cluster =[j.y for j in cluster_points  ]\n",
    "            ax.scatter(x_points_cluster,y_points_cluster,\n",
    "                    s = kwargs.get('size_cluster', 2),\n",
    "                    color = kwargs.get('color_cluster', 'green'), \n",
    "                    alpha = kwargs.get('alpha_cluster', .5)\n",
    "                    )\n",
    "\n",
    "            for child in self.children:\n",
    "                child_points = child.get_points()\n",
    "                x_points_children = [j.x  for j in child_points   ]\n",
    "                y_points_children = [j.y  for j in child_points   ]\n",
    "                ax.scatter(\n",
    "                    x_points_children,\n",
    "                    y_points_children,\n",
    "                    s = kwargs.get('size_children', 1),\n",
    "                    color = kwargs.get('color_children', 'blue'), \n",
    "                    alpha = kwargs.get('alpha_children', .25)\n",
    "                    )\n",
    "                if poligon_children== True:\n",
    "                    x_polygon, y_polygon  =child.polygon_cluster.exterior.xy\n",
    "                    ax.plot(x_polygon, y_polygon,\n",
    "                    color= kwargs.get(\n",
    "                        'polygon_color_children',\n",
    "                        'blue')\n",
    "                    )\n",
    "        elif  level_view == -1:\n",
    "            jet =  plt.get_cmap('jet') \n",
    "            cNorm  = matplotlib.colors.Normalize(vmin=0, vmax=250)\n",
    "            scalarMap = matplotlib.cm.ScalarMappable(norm=cNorm, cmap=jet)\n",
    "            color_random=random.randint(0, 250)\n",
    "            ax = self.viewer_cluster(ax,\n",
    "                    level = 0,\n",
    "                    size_cluster = kwargs.get('size_cluster', 1),\n",
    "                    color_cluster= scalarMap.to_rgba(color_random),\n",
    "                    alpha_cluster = kwargs.get('alpha_cluster', .5),\n",
    "                    polygon = polygon_con\n",
    "\n",
    "            )\n",
    "            kwargs['polygon_color']= scalarMap.to_rgba(color_random)\n",
    "            for child in self.children:\n",
    "                 child.viewer_cluster(ax, **kwargs)\n",
    "                \n",
    "        if polygon_con and self.polygon_cluster != None:\n",
    "            x_polygon, y_polygon  =self.polygon_cluster.exterior.xy\n",
    "            ax.plot(x_polygon, \n",
    "                    y_polygon,\n",
    "                    color= kwargs.get(\n",
    "                            'polygon_color',\n",
    "                            'magenta'\n",
    "                        )\n",
    "                    )\n",
    "        \n",
    "        return ax\n",
    "\n",
    "\n",
    "    ################## Dynamic generation \n",
    "    ###\n",
    "\n",
    "\n",
    "\n",
    "    def reproduce_node_polygon(\n",
    "                self,\n",
    "                **kwargs\n",
    "                ):\n",
    "        \"\"\"\n",
    "        Get a similar polyon with respect to the node polygon\n",
    "        \"\"\"\n",
    "        percent_construc_poligon = kwargs.get( 'percent_construc_poligon',.85)\n",
    "        u= kwargs.get( 'u', 20)\n",
    "        ###### The factors has to be symilar respect to the bounding box\n",
    "\n",
    "        x_fac = kwargs.get('x_fac', 0.01)\n",
    "        y_fac = kwargs.get('y_fac', 0.01)\n",
    "        b_val= kwargs.get('b_val', 1.2)\n",
    "        list_child = kwargs.get('list_children', None)\n",
    "        random_seed= kwargs.get('random_seed', 142)\n",
    "        verbose= kwargs.get('verbose', False )\n",
    "        \n",
    "        if self.polygon_cluster is None:\n",
    "            raise ValueError('No polygon in the cluster no able to reproduce')\n",
    "\n",
    "\n",
    "        ### Duplicate the node using a similar poligon \n",
    "        min_x_pol, min_y_pol , max_x_pol , max_y_pol = self.polygon_cluster.bounds \n",
    "\n",
    "        ####Get bounding boxes of the nodes child poligons \n",
    "        if self.children is not None:\n",
    "            if list_child is not None:\n",
    "                bounds_children = [d.polygon_cluster.bounds for d, s in zip(self.children, list_child) if s]\n",
    "                print(bounds_children)\n",
    "            else:\n",
    "                bounds_children =[child.polygon_cluster.bounds for child in  self.children]\n",
    "            \n",
    "            points_bound_children  = [shapely.geometry.Point(bound[0], bound[1]) for bound in bounds_children  ] \n",
    "            points_bound_children  = points_bound_children  + [shapely.geometry.Point(bound[0], bound[3]) for bound in bounds_children ] \n",
    "            points_bound_children  = points_bound_children  + [shapely.geometry.Point(bound[2], bound[1]) for bound in bounds_children ] \n",
    "            points_bound_children  = points_bound_children  + [shapely.geometry.Point(bound[2], bound[3]) for bound in bounds_children ]\n",
    "            x_side_val = abs(max_x_pol- min_x_pol)\n",
    "            y_side_val = abs(max_y_pol- min_y_pol)\n",
    "            x_min_val =  min_x_pol - x_side_val*x_fac\n",
    "            x_max_val =  max_x_pol + x_side_val*x_fac\n",
    "            y_min_val =  min_y_pol - y_side_val*y_fac\n",
    "            y_max_val =  max_y_pol + y_side_val*y_fac\n",
    "            random_points_pol_new=[]\n",
    "            res_bool = False\n",
    "            if verbose==True:\n",
    "                print('X Minimun value:', x_min_val)\n",
    "                print('X Maximun value:', x_max_val)\n",
    "                print('Y Minimun value:', x_min_val)\n",
    "                print('Y Maximun value:', x_max_val)\n",
    "            random.seed(random_seed) \n",
    "            while  res_bool ==False:\n",
    "                for i in range(u):\n",
    "                    random_points_pol_new.append(\n",
    "                                    shapely.geometry.Point(\n",
    "                                                random.uniform(x_min_val, x_max_val  ),\n",
    "                                                random.uniform(y_min_val, y_max_val  )\n",
    "                                    )\n",
    "                    )\n",
    "                res_bool , random_points_pol_new = inside_polygon(random_points_pol_new, \n",
    "                                                                self.polygon_cluster,\n",
    "                                                                percent_construc_poligon\n",
    "                                                                )\n",
    "            random_points_pol_new = random_points_pol_new + points_bound_children\n",
    "        \n",
    "        return poligon_non_convex_from_Points(random_points_pol_new)\n",
    "\n",
    "    def duplicate_node(self,\n",
    "                       **kwargs):\n",
    "        \"\"\"\n",
    "        The function \"duplicate\" the cluster node\n",
    "        returns : a NodeCluster class\n",
    "        \"\"\"\n",
    "\n",
    "        pref=kwargs.get('copy_pref', 'copy_')\n",
    "        new_cluster = NodeCluster( name = pref+ self.name )\n",
    "        ##print(new_cluster.name)\n",
    "        density_in = kwargs.get('parent', None)\n",
    "        parent_in= kwargs.get('parent', None),\n",
    "        children_in = kwargs.get('children', None)\n",
    "        npoints_in = kwargs.get('npoints', None) \n",
    "\n",
    "        \n",
    "        new_cluster.polygon_cluster = self.reproduce_node_polygon(**kwargs )\n",
    "        \n",
    "        \n",
    "        if density_in is None:\n",
    "            new_cluster.density = self.get_density() \n",
    "        else:\n",
    "            new_cluster.density = density\n",
    "        \n",
    "        if npoints_in is None:\n",
    "            npoints = math.floor(new_cluster.density * new_cluster.polygon_cluster.area ) \n",
    "            new_cluster.point_cluster_noise =  new_cluster.get_random_points(npoints)\n",
    "        else:\n",
    "            ### overided the density \n",
    "            new_cluster.density = npoint_in/new_cluster.cluster_polygon.area\n",
    "            new_cluster.point_cluster_noise =  new_cluster.get_random_points(npoints)\n",
    "             \n",
    "            \n",
    "            \n",
    "        return new_cluster\n",
    "    ##########Get polygon no toching with others\n",
    "    def polygon_not_intersec_children(self, **kwargs):\n",
    "\n",
    "        \"\"\"\n",
    "        Returns a polygon that doesn't touch the any of children polygon's and \n",
    "        it is inside the cluter's polygon \n",
    "        \n",
    "        \n",
    "        :param int random_state: (Default= 123456)\n",
    "        \n",
    "        :param int from_points_num: (Default= 20)\n",
    "        \n",
    "        :param double max_scale_x: (Default= 0.5)\n",
    "        \n",
    "        :param double max_scale_y: (Default= 0.5)\n",
    "        \n",
    "        :returns tuple: Polygon, random points center  \n",
    "        \"\"\"\n",
    "        random_state=kwargs.get('random_state', 123456)\n",
    "        from_points_num= kwargs.get('from_points_num', 20)\n",
    "        max_scale_x = kwargs.get('max_scale_x',.5)\n",
    "        max_scale_y = kwargs.get('max_scale_y',.5)\n",
    "        chec_in= True\n",
    "        while chec_in ==True:\n",
    "            random_point_center = self.get_random_points(1, random_state)[0]\n",
    "            chec_in=all(self.check_point_children([random_point_center]))\n",
    "        ### create polygon and scale \n",
    "\n",
    "        polygon = self.create_polygon(from_points_num)\n",
    "        new_pol_x_min, new_pol_y_min, new_pol_x_max, new_pol_y_max = polygon.bounds\n",
    "        center_polygon = shapely.geometry.Point((new_pol_x_max -new_pol_x_min)/2 + new_pol_x_min,\n",
    "                    (new_pol_y_max- new_pol_y_min)/2+new_pol_y_min)\n",
    "        translate = shapely.geometry.Point(\n",
    "                    random_point_center.x -center_polygon.x,\n",
    "                    random_point_center.y -center_polygon.y\n",
    "                    )\n",
    "        polygon = shapely.affinity.translate( \n",
    "                polygon, \n",
    "                xoff = translate.x,\n",
    "                yoff = translate.y\n",
    "                )\n",
    "        new_pol_x_min, new_pol_y_min, new_pol_x_max, new_pol_y_max = polygon.bounds\n",
    "        esq = [ shapely.geometry.Point(new_pol_x_min,new_pol_y_min ),\n",
    "                shapely.geometry.Point(new_pol_x_min,new_pol_y_max ),\n",
    "                shapely.geometry.Point(new_pol_x_max,new_pol_y_min ),\n",
    "                shapely.geometry.Point(new_pol_x_max,new_pol_y_max )\n",
    "            ]\n",
    "        max_dis_esq = max([random_point_center.distance(i) for i in esq])\n",
    "\n",
    "    ###### Scale the polygon \n",
    "    #dis_poly_parent= self.parent.polygon_cluster.exterior.distance(random_point_center)\n",
    "        ###### Para que no toque con los hijos lo que debemos pedir es que esta distancia \n",
    "        # sea con respecto a la distancia minima de los poligonos de los hijos\n",
    "\n",
    "        max_dis_parent = self.polygon_cluster.exterior.distance( random_point_center)\n",
    "        min_dis_children= []\n",
    "        for child  in self.children:\n",
    "            if child.polygon_cluster is not None:\n",
    "                min_dis_children.append(child.polygon_cluster.exterior.distance(random_point_center))\n",
    "            else:\n",
    "                min_dis_children.append(300000000000000) #### Es un numero cualquiera \n",
    "        max_dis_children_all= min(min_dis_children)##### Es tomar la minima distancia \n",
    "        max_dis = min (max_dis_children_all, max_dis_parent)\n",
    "\n",
    "        fact_pol = (max_dis/(1.3*max_dis_esq))\n",
    "\n",
    "        scale_factor_max_x  = min (fact_pol, max_scale_x)\n",
    "        scale_factor_max_y  = min (fact_pol, max_scale_y)\n",
    "\n",
    "\n",
    "    # print('scale x:', scale_factor_max_x)\n",
    "    # print('scale y:', scale_factor_max_y)\n",
    "    ##########\n",
    "        polygon= shapely.affinity.scale( \n",
    "            polygon,\n",
    "            xfact=scale_factor_max_x,\n",
    "            yfact=scale_factor_max_y,\n",
    "            origin= random_point_center\n",
    "        )\n",
    "        return polygon, random_point_center\n"
   ]
  },
  {
   "cell_type": "code",
   "execution_count": null,
   "metadata": {},
   "outputs": [],
   "source": [
    "#| hide\n",
    "node=NodeCluster(name='Root')"
   ]
  },
  {
   "cell_type": "code",
   "execution_count": null,
   "metadata": {},
   "outputs": [],
   "source": [
    "#| hide \n",
    "# checa varias funciones al mismo tiempo \n",
    "# create_polygon\n",
    "# create_random_points\n",
    "node.populate_cluster(20 , num_points = 40)"
   ]
  },
  {
   "cell_type": "code",
   "execution_count": null,
   "metadata": {},
   "outputs": [
    {
     "data": {
      "image/svg+xml": [
       "<svg xmlns=\"http://www.w3.org/2000/svg\" xmlns:xlink=\"http://www.w3.org/1999/xlink\" width=\"100.0\" height=\"100.0\" viewBox=\"0.007288348558721139 -0.0301819431211499 0.9946442859181641 1.0479133277356187\" preserveAspectRatio=\"xMinYMin meet\"><g transform=\"matrix(1,0,0,-1,0,0.987549441493319)\"><path fill-rule=\"evenodd\" fill=\"#66cc99\" stroke=\"#555555\" stroke-width=\"0.020958266554712376\" opacity=\"0.6\" d=\"M 0.1737468457382585,0.6115640663997169 L 0.04609995328966998,0.9371286301358237 L 0.5206639013092247,0.8603818263267538 L 0.7733012683502474,0.97891977988352 L 0.7466358919606777,0.9418935163682157 L 0.911675952835689,0.9311794360813737 L 0.944734088571127,0.058103895151587315 L 0.9631210297459364,0.008629661609798944 L 0.8919783504331096,0.035270923930314835 L 0.3912912908382564,0.01578361681865048 L 0.1737468457382585,0.6115640663997169 z\" /></g></svg>"
      ],
      "text/plain": [
       "<shapely.geometry.polygon.Polygon>"
      ]
     },
     "execution_count": null,
     "metadata": {},
     "output_type": "execute_result"
    }
   ],
   "source": [
    "node.polygon_cluster"
   ]
  },
  {
   "cell_type": "code",
   "execution_count": null,
   "metadata": {},
   "outputs": [],
   "source": [
    "#| hide\n",
    "node.scale(1.0,1.0)"
   ]
  },
  {
   "cell_type": "code",
   "execution_count": null,
   "metadata": {},
   "outputs": [
    {
     "data": {
      "text/plain": [
       "64.1690798708572"
      ]
     },
     "execution_count": null,
     "metadata": {},
     "output_type": "execute_result"
    }
   ],
   "source": [
    "#| hide\n",
    "node.get_density()"
   ]
  },
  {
   "cell_type": "code",
   "execution_count": null,
   "metadata": {},
   "outputs": [
    {
     "data": {
      "image/svg+xml": [
       "<svg xmlns=\"http://www.w3.org/2000/svg\" xmlns:xlink=\"http://www.w3.org/1999/xlink\" width=\"100.0\" height=\"100.0\" viewBox=\"0.10933134977316324 -0.008497843615391219 0.7849456499718829 0.9449256970233714\" preserveAspectRatio=\"xMinYMin meet\"><g transform=\"matrix(1,0,0,-1,0,0.927930009792589)\"><g><circle cx=\"0.7643955777390458\" cy=\"0.5398867751774529\" r=\"0.02834777091070114\" stroke=\"#555555\" stroke-width=\"0.009449256970233714\" fill=\"#66cc99\" opacity=\"0.6\" /><circle cx=\"0.1869820146809575\" cy=\"0.8981937696021043\" r=\"0.02834777091070114\" stroke=\"#555555\" stroke-width=\"0.009449256970233714\" fill=\"#66cc99\" opacity=\"0.6\" /><circle cx=\"0.2961525476392241\" cy=\"0.8342975897241701\" r=\"0.02834777091070114\" stroke=\"#555555\" stroke-width=\"0.009449256970233714\" fill=\"#66cc99\" opacity=\"0.6\" /><circle cx=\"0.5410394801879083\" cy=\"0.824520616185403\" r=\"0.02834777091070114\" stroke=\"#555555\" stroke-width=\"0.009449256970233714\" fill=\"#66cc99\" opacity=\"0.6\" /><circle cx=\"0.3335567034309375\" cy=\"0.4247221152262478\" r=\"0.02834777091070114\" stroke=\"#555555\" stroke-width=\"0.009449256970233714\" fill=\"#66cc99\" opacity=\"0.6\" /><circle cx=\"0.4151500362117543\" cy=\"0.466478289340854\" r=\"0.02834777091070114\" stroke=\"#555555\" stroke-width=\"0.009449256970233714\" fill=\"#66cc99\" opacity=\"0.6\" /><circle cx=\"0.6423177596086544\" cy=\"0.5597184564271951\" r=\"0.02834777091070114\" stroke=\"#555555\" stroke-width=\"0.009449256970233714\" fill=\"#66cc99\" opacity=\"0.6\" /><circle cx=\"0.3676994456662976\" cy=\"0.2016052915516676\" r=\"0.02834777091070114\" stroke=\"#555555\" stroke-width=\"0.009449256970233714\" fill=\"#66cc99\" opacity=\"0.6\" /><circle cx=\"0.3423413726504463\" cy=\"0.7609676104852902\" r=\"0.02834777091070114\" stroke=\"#555555\" stroke-width=\"0.009449256970233714\" fill=\"#66cc99\" opacity=\"0.6\" /><circle cx=\"0.438214028402335\" cy=\"0.2602315971770909\" r=\"0.02834777091070114\" stroke=\"#555555\" stroke-width=\"0.009449256970233714\" fill=\"#66cc99\" opacity=\"0.6\" /><circle cx=\"0.815334486258049\" cy=\"0.2647461142257733\" r=\"0.02834777091070114\" stroke=\"#555555\" stroke-width=\"0.009449256970233714\" fill=\"#66cc99\" opacity=\"0.6\" /><circle cx=\"0.3212616932408786\" cy=\"0.3028317944530516\" r=\"0.02834777091070114\" stroke=\"#555555\" stroke-width=\"0.009449256970233714\" fill=\"#66cc99\" opacity=\"0.6\" /><circle cx=\"0.14432859781106588\" cy=\"0.9014306053700776\" r=\"0.02834777091070114\" stroke=\"#555555\" stroke-width=\"0.009449256970233714\" fill=\"#66cc99\" opacity=\"0.6\" /><circle cx=\"0.6914994781574061\" cy=\"0.8217860196366387\" r=\"0.02834777091070114\" stroke=\"#555555\" stroke-width=\"0.009449256970233714\" fill=\"#66cc99\" opacity=\"0.6\" /><circle cx=\"0.533112620234492\" cy=\"0.2698939923157778\" r=\"0.02834777091070114\" stroke=\"#555555\" stroke-width=\"0.009449256970233714\" fill=\"#66cc99\" opacity=\"0.6\" /><circle cx=\"0.7998861356203298\" cy=\"0.588806577598587\" r=\"0.02834777091070114\" stroke=\"#555555\" stroke-width=\"0.009449256970233714\" fill=\"#66cc99\" opacity=\"0.6\" /><circle cx=\"0.6861782371181226\" cy=\"0.5798276122964998\" r=\"0.02834777091070114\" stroke=\"#555555\" stroke-width=\"0.009449256970233714\" fill=\"#66cc99\" opacity=\"0.6\" /><circle cx=\"0.6364724773182798\" cy=\"0.3062956775796075\" r=\"0.02834777091070114\" stroke=\"#555555\" stroke-width=\"0.009449256970233714\" fill=\"#66cc99\" opacity=\"0.6\" /><circle cx=\"0.6843497586082146\" cy=\"0.8187605857342919\" r=\"0.02834777091070114\" stroke=\"#555555\" stroke-width=\"0.009449256970233714\" fill=\"#66cc99\" opacity=\"0.6\" /><circle cx=\"0.39872102102836643\" cy=\"0.630903453879842\" r=\"0.02834777091070114\" stroke=\"#555555\" stroke-width=\"0.009449256970233714\" fill=\"#66cc99\" opacity=\"0.6\" /><circle cx=\"0.7443735920066221\" cy=\"0.2754870558694795\" r=\"0.02834777091070114\" stroke=\"#555555\" stroke-width=\"0.009449256970233714\" fill=\"#66cc99\" opacity=\"0.6\" /><circle cx=\"0.7275498909612359\" cy=\"0.6811255679009036\" r=\"0.02834777091070114\" stroke=\"#555555\" stroke-width=\"0.009449256970233714\" fill=\"#66cc99\" opacity=\"0.6\" /><circle cx=\"0.43006358481918583\" cy=\"0.4455945587020541\" r=\"0.02834777091070114\" stroke=\"#555555\" stroke-width=\"0.009449256970233714\" fill=\"#66cc99\" opacity=\"0.6\" /><circle cx=\"0.6289113610503442\" cy=\"0.4281452781575555\" r=\"0.02834777091070114\" stroke=\"#555555\" stroke-width=\"0.009449256970233714\" fill=\"#66cc99\" opacity=\"0.6\" /><circle cx=\"0.4090281309066879\" cy=\"0.02649940442251143\" r=\"0.02834777091070114\" stroke=\"#555555\" stroke-width=\"0.009449256970233714\" fill=\"#66cc99\" opacity=\"0.6\" /><circle cx=\"0.5909556227231081\" cy=\"0.23678609331291126\" r=\"0.02834777091070114\" stroke=\"#555555\" stroke-width=\"0.009449256970233714\" fill=\"#66cc99\" opacity=\"0.6\" /><circle cx=\"0.8115505348971643\" cy=\"0.2735350065933943\" r=\"0.02834777091070114\" stroke=\"#555555\" stroke-width=\"0.009449256970233714\" fill=\"#66cc99\" opacity=\"0.6\" /><circle cx=\"0.3082184241923516\" cy=\"0.7313690623705063\" r=\"0.02834777091070114\" stroke=\"#555555\" stroke-width=\"0.009449256970233714\" fill=\"#66cc99\" opacity=\"0.6\" /><circle cx=\"0.27307574566174864\" cy=\"0.4283552810486059\" r=\"0.02834777091070114\" stroke=\"#555555\" stroke-width=\"0.009449256970233714\" fill=\"#66cc99\" opacity=\"0.6\" /><circle cx=\"0.848092333073008\" cy=\"0.5210787881421327\" r=\"0.02834777091070114\" stroke=\"#555555\" stroke-width=\"0.009449256970233714\" fill=\"#66cc99\" opacity=\"0.6\" /><circle cx=\"0.46850416535738043\" cy=\"0.26371256768832396\" r=\"0.02834777091070114\" stroke=\"#555555\" stroke-width=\"0.009449256970233714\" fill=\"#66cc99\" opacity=\"0.6\" /><circle cx=\"0.7490210516327971\" cy=\"0.6450274789117706\" r=\"0.02834777091070114\" stroke=\"#555555\" stroke-width=\"0.009449256970233714\" fill=\"#66cc99\" opacity=\"0.6\" /><circle cx=\"0.4488744295064798\" cy=\"0.2964297366016476\" r=\"0.02834777091070114\" stroke=\"#555555\" stroke-width=\"0.009449256970233714\" fill=\"#66cc99\" opacity=\"0.6\" /><circle cx=\"0.675227630438486\" cy=\"0.4450145540082132\" r=\"0.02834777091070114\" stroke=\"#555555\" stroke-width=\"0.009449256970233714\" fill=\"#66cc99\" opacity=\"0.6\" /><circle cx=\"0.22773286570233353\" cy=\"0.5221308376349554\" r=\"0.02834777091070114\" stroke=\"#555555\" stroke-width=\"0.009449256970233714\" fill=\"#66cc99\" opacity=\"0.6\" /><circle cx=\"0.6773454887080884\" cy=\"0.11327624403628493\" r=\"0.02834777091070114\" stroke=\"#555555\" stroke-width=\"0.009449256970233714\" fill=\"#66cc99\" opacity=\"0.6\" /><circle cx=\"0.8592797517071435\" cy=\"0.10469243870868632\" r=\"0.02834777091070114\" stroke=\"#555555\" stroke-width=\"0.009449256970233714\" fill=\"#66cc99\" opacity=\"0.6\" /><circle cx=\"0.7325420375625172\" cy=\"0.7332187085786511\" r=\"0.02834777091070114\" stroke=\"#555555\" stroke-width=\"0.009449256970233714\" fill=\"#66cc99\" opacity=\"0.6\" /><circle cx=\"0.3676633704425293\" cy=\"0.3972464910816289\" r=\"0.02834777091070114\" stroke=\"#555555\" stroke-width=\"0.009449256970233714\" fill=\"#66cc99\" opacity=\"0.6\" /><circle cx=\"0.6246396335765793\" cy=\"0.42447530500526925\" r=\"0.02834777091070114\" stroke=\"#555555\" stroke-width=\"0.009449256970233714\" fill=\"#66cc99\" opacity=\"0.6\" /></g></g></svg>"
      ],
      "text/plain": [
       "<shapely.geometry.multipoint.MultiPoint>"
      ]
     },
     "execution_count": null,
     "metadata": {},
     "output_type": "execute_result"
    }
   ],
   "source": [
    "#| hide\n",
    "node.get_points()"
   ]
  },
  {
   "cell_type": "code",
   "execution_count": null,
   "metadata": {},
   "outputs": [
    {
     "data": {
      "image/svg+xml": [
       "<svg xmlns=\"http://www.w3.org/2000/svg\" xmlns:xlink=\"http://www.w3.org/1999/xlink\" width=\"100.0\" height=\"100.0\" viewBox=\"-0.49538950848219687 -0.5062252792533406 2.0 2.0\" preserveAspectRatio=\"xMinYMin meet\"><g transform=\"matrix(1,0,0,-1,0,0.9875494414933188)\"><circle cx=\"0.5046104915178031\" cy=\"0.49377472074665946\" r=\"0.06\" stroke=\"#555555\" stroke-width=\"0.02\" fill=\"#66cc99\" opacity=\"0.6\" /></g></svg>"
      ],
      "text/plain": [
       "<shapely.geometry.point.Point>"
      ]
     },
     "execution_count": null,
     "metadata": {},
     "output_type": "execute_result"
    }
   ],
   "source": [
    "#| hide\n",
    "node.get_center()"
   ]
  },
  {
   "cell_type": "code",
   "execution_count": null,
   "metadata": {},
   "outputs": [
    {
     "data": {
      "text/plain": [
       "<AxesSubplot:>"
      ]
     },
     "execution_count": null,
     "metadata": {},
     "output_type": "execute_result"
    },
    {
     "data": {
      "image/png": "[encoded data removed]",
      "text/plain": [
       "<Figure size 500x500 with 1 Axes>"
      ]
     },
     "metadata": {},
     "output_type": "display_data"
    }
   ],
   "source": [
    "#| hide\n",
    "fig, axs = plt.subplots( figsize=(5,5))\n",
    "node.viewer_cluster(axs, polygon=True)"
   ]
  },
  {
   "cell_type": "code",
   "execution_count": null,
   "metadata": {},
   "outputs": [
    {
     "data": {
      "text/plain": [
       "[(<shapely.geometry.point.Point>, 'Root_noise'),\n",
       " (<shapely.geometry.point.Point>, 'Root_noise'),\n",
       " (<shapely.geometry.point.Point>, 'Root_noise'),\n",
       " (<shapely.geometry.point.Point>, 'Root_noise'),\n",
       " (<shapely.geometry.point.Point>, 'Root_noise'),\n",
       " (<shapely.geometry.point.Point>, 'Root_noise'),\n",
       " (<shapely.geometry.point.Point>, 'Root_noise'),\n",
       " (<shapely.geometry.point.Point>, 'Root_noise'),\n",
       " (<shapely.geometry.point.Point>, 'Root_noise'),\n",
       " (<shapely.geometry.point.Point>, 'Root_noise'),\n",
       " (<shapely.geometry.point.Point>, 'Root_noise'),\n",
       " (<shapely.geometry.point.Point>, 'Root_noise'),\n",
       " (<shapely.geometry.point.Point>, 'Root_noise'),\n",
       " (<shapely.geometry.point.Point>, 'Root_noise'),\n",
       " (<shapely.geometry.point.Point>, 'Root_noise'),\n",
       " (<shapely.geometry.point.Point>, 'Root_noise'),\n",
       " (<shapely.geometry.point.Point>, 'Root_noise'),\n",
       " (<shapely.geometry.point.Point>, 'Root_noise'),\n",
       " (<shapely.geometry.point.Point>, 'Root_noise'),\n",
       " (<shapely.geometry.point.Point>, 'Root_noise'),\n",
       " (<shapely.geometry.point.Point>, 'Root_noise'),\n",
       " (<shapely.geometry.point.Point>, 'Root_noise'),\n",
       " (<shapely.geometry.point.Point>, 'Root_noise'),\n",
       " (<shapely.geometry.point.Point>, 'Root_noise'),\n",
       " (<shapely.geometry.point.Point>, 'Root_noise'),\n",
       " (<shapely.geometry.point.Point>, 'Root_noise'),\n",
       " (<shapely.geometry.point.Point>, 'Root_noise'),\n",
       " (<shapely.geometry.point.Point>, 'Root_noise'),\n",
       " (<shapely.geometry.point.Point>, 'Root_noise'),\n",
       " (<shapely.geometry.point.Point>, 'Root_noise'),\n",
       " (<shapely.geometry.point.Point>, 'Root_noise'),\n",
       " (<shapely.geometry.point.Point>, 'Root_noise'),\n",
       " (<shapely.geometry.point.Point>, 'Root_noise'),\n",
       " (<shapely.geometry.point.Point>, 'Root_noise'),\n",
       " (<shapely.geometry.point.Point>, 'Root_noise'),\n",
       " (<shapely.geometry.point.Point>, 'Root_noise'),\n",
       " (<shapely.geometry.point.Point>, 'Root_noise'),\n",
       " (<shapely.geometry.point.Point>, 'Root_noise'),\n",
       " (<shapely.geometry.point.Point>, 'Root_noise'),\n",
       " (<shapely.geometry.point.Point>, 'Root_noise')]"
      ]
     },
     "execution_count": null,
     "metadata": {},
     "output_type": "execute_result"
    }
   ],
   "source": [
    "#|hide\n",
    "node.tag_low_level()"
   ]
  },
  {
   "cell_type": "code",
   "execution_count": null,
   "metadata": {},
   "outputs": [
    {
     "data": {
      "text/plain": [
       "[(<shapely.geometry.point.Point>, 'noise'),\n",
       " (<shapely.geometry.point.Point>, 'noise'),\n",
       " (<shapely.geometry.point.Point>, 'noise'),\n",
       " (<shapely.geometry.point.Point>, 'noise'),\n",
       " (<shapely.geometry.point.Point>, 'noise'),\n",
       " (<shapely.geometry.point.Point>, 'noise'),\n",
       " (<shapely.geometry.point.Point>, 'noise'),\n",
       " (<shapely.geometry.point.Point>, 'noise'),\n",
       " (<shapely.geometry.point.Point>, 'noise'),\n",
       " (<shapely.geometry.point.Point>, 'noise'),\n",
       " (<shapely.geometry.point.Point>, 'noise'),\n",
       " (<shapely.geometry.point.Point>, 'noise'),\n",
       " (<shapely.geometry.point.Point>, 'noise'),\n",
       " (<shapely.geometry.point.Point>, 'noise'),\n",
       " (<shapely.geometry.point.Point>, 'noise'),\n",
       " (<shapely.geometry.point.Point>, 'noise'),\n",
       " (<shapely.geometry.point.Point>, 'noise'),\n",
       " (<shapely.geometry.point.Point>, 'noise'),\n",
       " (<shapely.geometry.point.Point>, 'noise'),\n",
       " (<shapely.geometry.point.Point>, 'noise'),\n",
       " (<shapely.geometry.point.Point>, 'noise'),\n",
       " (<shapely.geometry.point.Point>, 'noise'),\n",
       " (<shapely.geometry.point.Point>, 'noise'),\n",
       " (<shapely.geometry.point.Point>, 'noise'),\n",
       " (<shapely.geometry.point.Point>, 'noise'),\n",
       " (<shapely.geometry.point.Point>, 'noise'),\n",
       " (<shapely.geometry.point.Point>, 'noise'),\n",
       " (<shapely.geometry.point.Point>, 'noise'),\n",
       " (<shapely.geometry.point.Point>, 'noise'),\n",
       " (<shapely.geometry.point.Point>, 'noise'),\n",
       " (<shapely.geometry.point.Point>, 'noise'),\n",
       " (<shapely.geometry.point.Point>, 'noise'),\n",
       " (<shapely.geometry.point.Point>, 'noise'),\n",
       " (<shapely.geometry.point.Point>, 'noise'),\n",
       " (<shapely.geometry.point.Point>, 'noise'),\n",
       " (<shapely.geometry.point.Point>, 'noise'),\n",
       " (<shapely.geometry.point.Point>, 'noise'),\n",
       " (<shapely.geometry.point.Point>, 'noise'),\n",
       " (<shapely.geometry.point.Point>, 'noise'),\n",
       " (<shapely.geometry.point.Point>, 'noise')]"
      ]
     },
     "execution_count": null,
     "metadata": {},
     "output_type": "execute_result"
    }
   ],
   "source": [
    "node.tag_low_level_noise_signal()"
   ]
  },
  {
   "cell_type": "code",
   "execution_count": null,
   "metadata": {},
   "outputs": [
    {
     "data": {
      "text/plain": [
       "[(<shapely.geometry.point.Point>, 'Root_noise'),\n",
       " (<shapely.geometry.point.Point>, 'Root_noise'),\n",
       " (<shapely.geometry.point.Point>, 'Root_noise'),\n",
       " (<shapely.geometry.point.Point>, 'Root_noise'),\n",
       " (<shapely.geometry.point.Point>, 'Root_noise'),\n",
       " (<shapely.geometry.point.Point>, 'Root_noise'),\n",
       " (<shapely.geometry.point.Point>, 'Root_noise'),\n",
       " (<shapely.geometry.point.Point>, 'Root_noise'),\n",
       " (<shapely.geometry.point.Point>, 'Root_noise'),\n",
       " (<shapely.geometry.point.Point>, 'Root_noise'),\n",
       " (<shapely.geometry.point.Point>, 'Root_noise'),\n",
       " (<shapely.geometry.point.Point>, 'Root_noise'),\n",
       " (<shapely.geometry.point.Point>, 'Root_noise'),\n",
       " (<shapely.geometry.point.Point>, 'Root_noise'),\n",
       " (<shapely.geometry.point.Point>, 'Root_noise'),\n",
       " (<shapely.geometry.point.Point>, 'Root_noise'),\n",
       " (<shapely.geometry.point.Point>, 'Root_noise'),\n",
       " (<shapely.geometry.point.Point>, 'Root_noise'),\n",
       " (<shapely.geometry.point.Point>, 'Root_noise'),\n",
       " (<shapely.geometry.point.Point>, 'Root_noise'),\n",
       " (<shapely.geometry.point.Point>, 'Root_noise'),\n",
       " (<shapely.geometry.point.Point>, 'Root_noise'),\n",
       " (<shapely.geometry.point.Point>, 'Root_noise'),\n",
       " (<shapely.geometry.point.Point>, 'Root_noise'),\n",
       " (<shapely.geometry.point.Point>, 'Root_noise'),\n",
       " (<shapely.geometry.point.Point>, 'Root_noise'),\n",
       " (<shapely.geometry.point.Point>, 'Root_noise'),\n",
       " (<shapely.geometry.point.Point>, 'Root_noise'),\n",
       " (<shapely.geometry.point.Point>, 'Root_noise'),\n",
       " (<shapely.geometry.point.Point>, 'Root_noise'),\n",
       " (<shapely.geometry.point.Point>, 'Root_noise'),\n",
       " (<shapely.geometry.point.Point>, 'Root_noise'),\n",
       " (<shapely.geometry.point.Point>, 'Root_noise'),\n",
       " (<shapely.geometry.point.Point>, 'Root_noise'),\n",
       " (<shapely.geometry.point.Point>, 'Root_noise'),\n",
       " (<shapely.geometry.point.Point>, 'Root_noise'),\n",
       " (<shapely.geometry.point.Point>, 'Root_noise'),\n",
       " (<shapely.geometry.point.Point>, 'Root_noise'),\n",
       " (<shapely.geometry.point.Point>, 'Root_noise'),\n",
       " (<shapely.geometry.point.Point>, 'Root_noise')]"
      ]
     },
     "execution_count": null,
     "metadata": {},
     "output_type": "execute_result"
    }
   ],
   "source": [
    "node.tag_all_point()"
   ]
  },
  {
   "cell_type": "code",
   "execution_count": null,
   "metadata": {},
   "outputs": [
    {
     "data": {
      "text/plain": [
       "[(<shapely.geometry.point.Point>, 'noise'),\n",
       " (<shapely.geometry.point.Point>, 'noise'),\n",
       " (<shapely.geometry.point.Point>, 'noise'),\n",
       " (<shapely.geometry.point.Point>, 'noise'),\n",
       " (<shapely.geometry.point.Point>, 'noise'),\n",
       " (<shapely.geometry.point.Point>, 'noise'),\n",
       " (<shapely.geometry.point.Point>, 'noise'),\n",
       " (<shapely.geometry.point.Point>, 'noise'),\n",
       " (<shapely.geometry.point.Point>, 'noise'),\n",
       " (<shapely.geometry.point.Point>, 'noise'),\n",
       " (<shapely.geometry.point.Point>, 'noise'),\n",
       " (<shapely.geometry.point.Point>, 'noise'),\n",
       " (<shapely.geometry.point.Point>, 'noise'),\n",
       " (<shapely.geometry.point.Point>, 'noise'),\n",
       " (<shapely.geometry.point.Point>, 'noise'),\n",
       " (<shapely.geometry.point.Point>, 'noise'),\n",
       " (<shapely.geometry.point.Point>, 'noise'),\n",
       " (<shapely.geometry.point.Point>, 'noise'),\n",
       " (<shapely.geometry.point.Point>, 'noise'),\n",
       " (<shapely.geometry.point.Point>, 'noise'),\n",
       " (<shapely.geometry.point.Point>, 'noise'),\n",
       " (<shapely.geometry.point.Point>, 'noise'),\n",
       " (<shapely.geometry.point.Point>, 'noise'),\n",
       " (<shapely.geometry.point.Point>, 'noise'),\n",
       " (<shapely.geometry.point.Point>, 'noise'),\n",
       " (<shapely.geometry.point.Point>, 'noise'),\n",
       " (<shapely.geometry.point.Point>, 'noise'),\n",
       " (<shapely.geometry.point.Point>, 'noise'),\n",
       " (<shapely.geometry.point.Point>, 'noise'),\n",
       " (<shapely.geometry.point.Point>, 'noise'),\n",
       " (<shapely.geometry.point.Point>, 'noise'),\n",
       " (<shapely.geometry.point.Point>, 'noise'),\n",
       " (<shapely.geometry.point.Point>, 'noise'),\n",
       " (<shapely.geometry.point.Point>, 'noise'),\n",
       " (<shapely.geometry.point.Point>, 'noise'),\n",
       " (<shapely.geometry.point.Point>, 'noise'),\n",
       " (<shapely.geometry.point.Point>, 'noise'),\n",
       " (<shapely.geometry.point.Point>, 'noise'),\n",
       " (<shapely.geometry.point.Point>, 'noise'),\n",
       " (<shapely.geometry.point.Point>, 'noise')]"
      ]
     },
     "execution_count": null,
     "metadata": {},
     "output_type": "execute_result"
    }
   ],
   "source": [
    "node.tag_all_point_noise_signal()"
   ]
  },
  {
   "cell_type": "code",
   "execution_count": null,
   "metadata": {},
   "outputs": [
    {
     "data": {
      "text/plain": [
       "[]"
      ]
     },
     "execution_count": null,
     "metadata": {},
     "output_type": "execute_result"
    }
   ],
   "source": [
    "#| hide \n",
    "bounds = node.polygon_cluster.bounds\n",
    "x= [random.uniform (bounds[0], bounds[2]) for i in range(20)] \n",
    "y = [random.uniform (bounds[1], bounds[3]) for i in range(20)] \n",
    "points_check = [shapely.geometry.Point(i) for i in zip(x,y)]\n",
    "node.check_point_children(points_check) ### No tiene hijos "
   ]
  },
  {
   "cell_type": "code",
   "execution_count": null,
   "metadata": {},
   "outputs": [
    {
     "data": {
      "image/svg+xml": [
       "<svg xmlns=\"http://www.w3.org/2000/svg\" xmlns:xlink=\"http://www.w3.org/1999/xlink\" width=\"100.0\" height=\"100.0\" viewBox=\"0.2395435793901744 0.034213724438562236 0.7010653915505156 0.7781295040155406\" preserveAspectRatio=\"xMinYMin meet\"><g transform=\"matrix(1,0,0,-1,0,0.846556952892665)\"><path fill-rule=\"evenodd\" fill=\"#66cc99\" stroke=\"#555555\" stroke-width=\"0.015562590080310811\" opacity=\"0.6\" d=\"M 0.2789343224203364,0.11080282500380169 L 0.27456748236390904,0.275133933811243 L 0.28692450100136097,0.3247996176104585 L 0.3167172270938661,0.5470578972195689 L 0.37551617085394207,0.5616794428079454 L 0.5788075209215118,0.783523617194268 L 0.687796931552668,0.6758841483594238 L 0.8367377506606801,0.7055752880754917 L 0.8363408955590472,0.6288099930823544 L 0.9117893596808552,0.6266086277318493 L 0.8352058845402155,0.3914708502836938 L 0.8574197203078947,0.34316295632909083 L 0.6651837379597807,0.21707825987712437 L 0.5541929002188806,0.1437047075644377 L 0.37038141804148517,0.11179662662120231 L 0.26836319065000924,0.06303333569839707 L 0.2789343224203364,0.11080282500380169 z\" /></g></svg>"
      ],
      "text/plain": [
       "<shapely.geometry.polygon.Polygon>"
      ]
     },
     "execution_count": null,
     "metadata": {},
     "output_type": "execute_result"
    }
   ],
   "source": [
    "#|hide\n",
    "node= NodeCluster('Root')\n",
    "node.populate_cluster (20, 34)\n",
    "node.reproduce_node_polygon()"
   ]
  },
  {
   "cell_type": "code",
   "execution_count": null,
   "metadata": {},
   "outputs": [],
   "source": [
    "#|hide\n",
    "node2 = node.duplicate_node()\n"
   ]
  },
  {
   "cell_type": "code",
   "execution_count": null,
   "metadata": {},
   "outputs": [],
   "source": [
    "#| hide \n",
    "#### Esta toda via no sirve \n",
    "####node.polygon_not_intersec_children()"
   ]
  },
  {
   "cell_type": "markdown",
   "metadata": {},
   "source": [
    "### Methods (NodeCluster)\n",
    "\n",
    "In the following section the documentation of most important methods of the NodeCluster class are shown "
   ]
  },
  {
   "cell_type": "markdown",
   "metadata": {},
   "source": [
    "#### Create cluster \n",
    "\n",
    "The following methos are par of the construction of the `NodeCluster` and some utilities that arte use in its construction. \n"
   ]
  },
  {
   "cell_type": "code",
   "execution_count": null,
   "metadata": {},
   "outputs": [
    {
     "data": {
      "text/markdown": [
       "---\n",
       "\n",
       "### NodeCluster.__init__\n",
       "\n",
       ">      NodeCluster.__init__ (name, density=None, parent=None, children=None)\n",
       "\n",
       "Constructor of the class\n",
       "\n",
       ":param str name: Name of the cluster\n",
       "\n",
       ":param double density: Density of the cluster (Default =None)\n",
       "\n",
       ":param NodeCluster parent: Cluster parent (Default = None)\n",
       "\n",
       ":param list children: List of its children (Default =None)"
      ],
      "text/plain": [
       "---\n",
       "\n",
       "### NodeCluster.__init__\n",
       "\n",
       ">      NodeCluster.__init__ (name, density=None, parent=None, children=None)\n",
       "\n",
       "Constructor of the class\n",
       "\n",
       ":param str name: Name of the cluster\n",
       "\n",
       ":param double density: Density of the cluster (Default =None)\n",
       "\n",
       ":param NodeCluster parent: Cluster parent (Default = None)\n",
       "\n",
       ":param list children: List of its children (Default =None)"
      ]
     },
     "execution_count": null,
     "metadata": {},
     "output_type": "execute_result"
    }
   ],
   "source": [
    "show_doc(NodeCluster.__init__)"
   ]
  },
  {
   "cell_type": "code",
   "execution_count": null,
   "metadata": {},
   "outputs": [
    {
     "data": {
      "text/markdown": [
       "---\n",
       "\n",
       "### NodeCluster.populate_cluster\n",
       "\n",
       ">      NodeCluster.populate_cluster (from_points_num=20, density=None,\n",
       ">                                    num_points=None, min_scale_x=0.1,\n",
       ">                                    max_scale_x=0.5, min_scale_y=0.1,\n",
       ">                                    max_scale_y=0.5, random_state=170,\n",
       ">                                    **kwargs)\n",
       "\n",
       "Populate the cluster on random bases \n",
       "\n",
       ":param int random_state: Random state \n",
       "\n",
       ":param double min_scale_x: min x value range ( Default=.1 )\n",
       "\n",
       ":param double max_scale_x: max x value range ( Default=.5 )\n",
       "\n",
       ":param double min_scale_y: min y value range ( Default=.1 )\n",
       "\n",
       ":param double max_scale_y: max y value range ( Default=.5 )"
      ],
      "text/plain": [
       "---\n",
       "\n",
       "### NodeCluster.populate_cluster\n",
       "\n",
       ">      NodeCluster.populate_cluster (from_points_num=20, density=None,\n",
       ">                                    num_points=None, min_scale_x=0.1,\n",
       ">                                    max_scale_x=0.5, min_scale_y=0.1,\n",
       ">                                    max_scale_y=0.5, random_state=170,\n",
       ">                                    **kwargs)\n",
       "\n",
       "Populate the cluster on random bases \n",
       "\n",
       ":param int random_state: Random state \n",
       "\n",
       ":param double min_scale_x: min x value range ( Default=.1 )\n",
       "\n",
       ":param double max_scale_x: max x value range ( Default=.5 )\n",
       "\n",
       ":param double min_scale_y: min y value range ( Default=.1 )\n",
       "\n",
       ":param double max_scale_y: max y value range ( Default=.5 )"
      ]
     },
     "execution_count": null,
     "metadata": {},
     "output_type": "execute_result"
    }
   ],
   "source": [
    "show_doc(NodeCluster.populate_cluster)"
   ]
  },
  {
   "cell_type": "code",
   "execution_count": null,
   "metadata": {},
   "outputs": [
    {
     "data": {
      "text/markdown": [
       "---\n",
       "\n",
       "### NodeCluster.create_polygon\n",
       "\n",
       ">      NodeCluster.create_polygon (from_points_num=20)\n",
       "\n",
       "Generate a random polygon for the cluster\n",
       "\n",
       ":param from_points_num: The number of points to \n",
       "generate the cluster from "
      ],
      "text/plain": [
       "---\n",
       "\n",
       "### NodeCluster.create_polygon\n",
       "\n",
       ">      NodeCluster.create_polygon (from_points_num=20)\n",
       "\n",
       "Generate a random polygon for the cluster\n",
       "\n",
       ":param from_points_num: The number of points to \n",
       "generate the cluster from "
      ]
     },
     "execution_count": null,
     "metadata": {},
     "output_type": "execute_result"
    }
   ],
   "source": [
    "show_doc(NodeCluster.create_polygon)"
   ]
  },
  {
   "cell_type": "markdown",
   "metadata": {},
   "source": [
    "#### Random points\n",
    "Generate random points inside cluster"
   ]
  },
  {
   "cell_type": "code",
   "execution_count": null,
   "metadata": {},
   "outputs": [
    {
     "data": {
      "text/markdown": [
       "---\n",
       "\n",
       "### NodeCluster.create_random_points\n",
       "\n",
       ">      NodeCluster.create_random_points (npoints_polygon=1000, random_state=120)\n",
       "\n",
       "Create random points \n",
       "\n",
       ":param npoints_polygon Number of point to get\n",
       "\n",
       ":random_state Random state integer to ste random\n",
       "\n",
       ":returns: A shapely multyPoint clas witn npoints_polygon points"
      ],
      "text/plain": [
       "---\n",
       "\n",
       "### NodeCluster.create_random_points\n",
       "\n",
       ">      NodeCluster.create_random_points (npoints_polygon=1000, random_state=120)\n",
       "\n",
       "Create random points \n",
       "\n",
       ":param npoints_polygon Number of point to get\n",
       "\n",
       ":random_state Random state integer to ste random\n",
       "\n",
       ":returns: A shapely multyPoint clas witn npoints_polygon points"
      ]
     },
     "execution_count": null,
     "metadata": {},
     "output_type": "execute_result"
    }
   ],
   "source": [
    "show_doc(NodeCluster.create_random_points)"
   ]
  },
  {
   "cell_type": "code",
   "execution_count": null,
   "metadata": {},
   "outputs": [
    {
     "data": {
      "text/markdown": [
       "---\n",
       "\n",
       "### NodeCluster.polygon_not_intersec_children\n",
       "\n",
       ">      NodeCluster.polygon_not_intersec_children (**kwargs)\n",
       "\n",
       "Returns a polygon that doesn't touch the any of children polygon's and \n",
       "it is inside the cluter's polygon \n",
       "\n",
       "\n",
       ":param int random_state: (Default= 123456)\n",
       "\n",
       ":param int from_points_num: (Default= 20)\n",
       "\n",
       ":param double max_scale_x: (Default= 0.5)\n",
       "\n",
       ":param double max_scale_y: (Default= 0.5)\n",
       "\n",
       ":returns tuple: Polygon, random points center  "
      ],
      "text/plain": [
       "---\n",
       "\n",
       "### NodeCluster.polygon_not_intersec_children\n",
       "\n",
       ">      NodeCluster.polygon_not_intersec_children (**kwargs)\n",
       "\n",
       "Returns a polygon that doesn't touch the any of children polygon's and \n",
       "it is inside the cluter's polygon \n",
       "\n",
       "\n",
       ":param int random_state: (Default= 123456)\n",
       "\n",
       ":param int from_points_num: (Default= 20)\n",
       "\n",
       ":param double max_scale_x: (Default= 0.5)\n",
       "\n",
       ":param double max_scale_y: (Default= 0.5)\n",
       "\n",
       ":returns tuple: Polygon, random points center  "
      ]
     },
     "execution_count": null,
     "metadata": {},
     "output_type": "execute_result"
    }
   ],
   "source": [
    "show_doc(NodeCluster.polygon_not_intersec_children)"
   ]
  },
  {
   "cell_type": "markdown",
   "metadata": {},
   "source": [
    "#### scale\n",
    "Scale the points inside the cluster"
   ]
  },
  {
   "cell_type": "code",
   "execution_count": null,
   "metadata": {},
   "outputs": [
    {
     "data": {
      "text/markdown": [
       "---\n",
       "\n",
       "### NodeCluster.scale\n",
       "\n",
       ">      NodeCluster.scale (x_scale, y_scale, center_scale='center')\n",
       "\n",
       "Scale the points in the cluster \n",
       "\n",
       ":param x_scale Scale factor to scale in x axis\n",
       "\n",
       ":param y_scale Scale factor to scale in y axis\n",
       "\n",
       ":param center_scale Scale center point  (Default = 'center')\n",
       "\n",
       ":returns: No returns"
      ],
      "text/plain": [
       "---\n",
       "\n",
       "### NodeCluster.scale\n",
       "\n",
       ">      NodeCluster.scale (x_scale, y_scale, center_scale='center')\n",
       "\n",
       "Scale the points in the cluster \n",
       "\n",
       ":param x_scale Scale factor to scale in x axis\n",
       "\n",
       ":param y_scale Scale factor to scale in y axis\n",
       "\n",
       ":param center_scale Scale center point  (Default = 'center')\n",
       "\n",
       ":returns: No returns"
      ]
     },
     "execution_count": null,
     "metadata": {},
     "output_type": "execute_result"
    }
   ],
   "source": [
    "show_doc(NodeCluster.scale)"
   ]
  },
  {
   "cell_type": "markdown",
   "metadata": {},
   "source": [
    "#### Get values \n",
    "Extract values from the `NodeCluster` class"
   ]
  },
  {
   "cell_type": "code",
   "execution_count": null,
   "metadata": {},
   "outputs": [
    {
     "data": {
      "text/markdown": [
       "---\n",
       "\n",
       "### NodeCluster.get_density\n",
       "\n",
       ">      NodeCluster.get_density ()\n",
       "\n",
       "Get the density of the cluster \n",
       "\n",
       ":returns double: The density of the node"
      ],
      "text/plain": [
       "---\n",
       "\n",
       "### NodeCluster.get_density\n",
       "\n",
       ">      NodeCluster.get_density ()\n",
       "\n",
       "Get the density of the cluster \n",
       "\n",
       ":returns double: The density of the node"
      ]
     },
     "execution_count": null,
     "metadata": {},
     "output_type": "execute_result"
    }
   ],
   "source": [
    "show_doc(NodeCluster.get_density)"
   ]
  },
  {
   "cell_type": "code",
   "execution_count": null,
   "metadata": {},
   "outputs": [
    {
     "data": {
      "text/markdown": [
       "---\n",
       "\n",
       "### NodeCluster.tag_low_level_noise_signal\n",
       "\n",
       ">      NodeCluster.tag_low_level_noise_signal (point_check=None)\n",
       "\n",
       "The tag the element of the node using the labels noise or signal\n",
       "as a tag, if a set of point is pass (point_check != None)  \n",
       "the elements are treated as part of the cluster and label it\n",
       "accordingly.\n",
       "\n",
       ":params list point_check: A list of shapely Points to tag (if None \n",
       "                    tags the points inside the cluster) \n",
       "\n",
       ":returns: A list of tuples (points , tag)"
      ],
      "text/plain": [
       "---\n",
       "\n",
       "### NodeCluster.tag_low_level_noise_signal\n",
       "\n",
       ">      NodeCluster.tag_low_level_noise_signal (point_check=None)\n",
       "\n",
       "The tag the element of the node using the labels noise or signal\n",
       "as a tag, if a set of point is pass (point_check != None)  \n",
       "the elements are treated as part of the cluster and label it\n",
       "accordingly.\n",
       "\n",
       ":params list point_check: A list of shapely Points to tag (if None \n",
       "                    tags the points inside the cluster) \n",
       "\n",
       ":returns: A list of tuples (points , tag)"
      ]
     },
     "execution_count": null,
     "metadata": {},
     "output_type": "execute_result"
    }
   ],
   "source": [
    "show_doc(NodeCluster.tag_low_level_noise_signal)"
   ]
  },
  {
   "cell_type": "code",
   "execution_count": null,
   "metadata": {},
   "outputs": [
    {
     "data": {
      "text/markdown": [
       "---\n",
       "\n",
       "### NodeCluster.get_center\n",
       "\n",
       ">      NodeCluster.get_center ()\n",
       "\n",
       "Get the center of the bounding box poligon\n",
       "\n",
       ":returns: Shapely Point center "
      ],
      "text/plain": [
       "---\n",
       "\n",
       "### NodeCluster.get_center\n",
       "\n",
       ">      NodeCluster.get_center ()\n",
       "\n",
       "Get the center of the bounding box poligon\n",
       "\n",
       ":returns: Shapely Point center "
      ]
     },
     "execution_count": null,
     "metadata": {},
     "output_type": "execute_result"
    }
   ],
   "source": [
    "show_doc(NodeCluster.get_center)"
   ]
  },
  {
   "cell_type": "code",
   "execution_count": null,
   "metadata": {},
   "outputs": [
    {
     "data": {
      "text/markdown": [
       "---\n",
       "\n",
       "### NodeCluster.get_points\n",
       "\n",
       ">      NodeCluster.get_points (all_tag=False)\n",
       "\n",
       "Returns the noise point of the cluster, if all_tag is set true returns  \n",
       "all the points of the its decendents"
      ],
      "text/plain": [
       "---\n",
       "\n",
       "### NodeCluster.get_points\n",
       "\n",
       ">      NodeCluster.get_points (all_tag=False)\n",
       "\n",
       "Returns the noise point of the cluster, if all_tag is set true returns  \n",
       "all the points of the its decendents"
      ]
     },
     "execution_count": null,
     "metadata": {},
     "output_type": "execute_result"
    }
   ],
   "source": [
    "show_doc(NodeCluster.get_points)"
   ]
  },
  {
   "cell_type": "code",
   "execution_count": null,
   "metadata": {},
   "outputs": [
    {
     "data": {
      "text/markdown": [
       "---\n",
       "\n",
       "### NodeCluster.get_point_decendent\n",
       "\n",
       ">      NodeCluster.get_point_decendent ()\n",
       "\n",
       "Returns all the point of the node and its decendents"
      ],
      "text/plain": [
       "---\n",
       "\n",
       "### NodeCluster.get_point_decendent\n",
       "\n",
       ">      NodeCluster.get_point_decendent ()\n",
       "\n",
       "Returns all the point of the node and its decendents"
      ]
     },
     "execution_count": null,
     "metadata": {},
     "output_type": "execute_result"
    }
   ],
   "source": [
    "show_doc(NodeCluster.get_point_decendent)"
   ]
  },
  {
   "cell_type": "markdown",
   "metadata": {},
   "source": [
    "#### Vizualization \n",
    "\n",
    "Tools to visualize the cluster and its points"
   ]
  },
  {
   "cell_type": "code",
   "execution_count": null,
   "metadata": {},
   "outputs": [
    {
     "data": {
      "text/markdown": [
       "---\n",
       "\n",
       "### NodeCluster.viewer_cluster\n",
       "\n",
       ">      NodeCluster.viewer_cluster (ax, **kwargs)\n",
       "\n",
       "Vizualization of the cluster \n",
       "\n",
       ":param ax: ax of a matplotlib figure\n",
       "\n",
       ":param int level: Level to view 0 only the points of the cluster,\n",
       "1 the children points, -1 all decendent points  (Default = 0 )\n",
       "\n",
       ":param bool polygon: To draw the polygon of the cluster \n",
       "(Default = False).\n",
       "\n",
       ":param bool polygon_children: Draw the poligon of its children \n",
       "(Default = False).\n",
       "\n",
       ":param double size_cluster: Point size inside the cluster (noise)\n",
       "(Default = 2)\n",
       "\n",
       ":param str color_cluster : matplotlib color \n",
       "\n",
       ":param double alpha_cluster : alpha channel (Default = 0.5) \n",
       "\n",
       ":param double size_children : Point size children (Default = 1)\n",
       "\n",
       ":param str color_children: matplotlib color\n",
       "\n",
       ":param double alpha_children : alpha channel (Default = 0.5) \n",
       "\n",
       ":param bool polygon_color_children: Plot the children polygon \n",
       "\n",
       ":returns : Draw into the ax."
      ],
      "text/plain": [
       "---\n",
       "\n",
       "### NodeCluster.viewer_cluster\n",
       "\n",
       ">      NodeCluster.viewer_cluster (ax, **kwargs)\n",
       "\n",
       "Vizualization of the cluster \n",
       "\n",
       ":param ax: ax of a matplotlib figure\n",
       "\n",
       ":param int level: Level to view 0 only the points of the cluster,\n",
       "1 the children points, -1 all decendent points  (Default = 0 )\n",
       "\n",
       ":param bool polygon: To draw the polygon of the cluster \n",
       "(Default = False).\n",
       "\n",
       ":param bool polygon_children: Draw the poligon of its children \n",
       "(Default = False).\n",
       "\n",
       ":param double size_cluster: Point size inside the cluster (noise)\n",
       "(Default = 2)\n",
       "\n",
       ":param str color_cluster : matplotlib color \n",
       "\n",
       ":param double alpha_cluster : alpha channel (Default = 0.5) \n",
       "\n",
       ":param double size_children : Point size children (Default = 1)\n",
       "\n",
       ":param str color_children: matplotlib color\n",
       "\n",
       ":param double alpha_children : alpha channel (Default = 0.5) \n",
       "\n",
       ":param bool polygon_color_children: Plot the children polygon \n",
       "\n",
       ":returns : Draw into the ax."
      ]
     },
     "execution_count": null,
     "metadata": {},
     "output_type": "execute_result"
    }
   ],
   "source": [
    "show_doc(NodeCluster.viewer_cluster)"
   ]
  },
  {
   "cell_type": "markdown",
   "metadata": {},
   "source": [
    "## Tree Cluster class \n",
    "\n",
    "The class for a hierarchical structure (clusters tree) that allows to visualize and create random hierargical geographical points"
   ]
  },
  {
   "cell_type": "code",
   "execution_count": null,
   "metadata": {},
   "outputs": [],
   "source": [
    "#| export\n",
    "class TreeClusters(object):\n",
    "    levels = 0\n",
    "    levels_nodes=[]\n",
    "    root = None\n",
    "    def __init__(self, \n",
    "                levels=None, \n",
    "                r_name = 'Root',\n",
    "                level_str= 'l_',\n",
    "                node_str ='n_',\n",
    "                **kwargs\n",
    "                ):\n",
    "        \"\"\"\n",
    "        Build the tree \n",
    "        \n",
    "        :param int levels: Number of leevels in the tree (Default =None) \n",
    "        \n",
    "        :param str r_name : String to root label (Default= 'Root')\n",
    "        \n",
    "        :param str level_str: String to name the levels (Default= 'l_')\n",
    "        \n",
    "        :param str node_str: String to name the nodes (Default ='n_')\n",
    "        \n",
    "        :param double random_seed:\n",
    "        \"\"\"\n",
    "        random_seed = kwargs.get('random_seed', 123)\n",
    "        random.seed(random_seed)\n",
    "        if levels is None:\n",
    "            self.levels = 0\n",
    "            self.levels_nodes=[]\n",
    "            self.root = None\n",
    "            return \n",
    "        \n",
    "        self.levels = levels \n",
    "        self.root = NodeCluster(name=r_name)\n",
    "        levels_nodes = []\n",
    "        previus_level= []\n",
    "\n",
    "        for level in range(self.levels):\n",
    "            if level==0:\n",
    "                previus_level = [self.root]\n",
    "                levels_nodes.append(previus_level)\n",
    "            next_level= []\n",
    "            for prev in  previus_level:\n",
    "                n_childs = random.randint(0, 5)\n",
    "                node_childs = [\n",
    "                    NodeCluster(name = prev.name +'_'+level_str+str(level)+'_'+node_str+str(i),\n",
    "                                parent=prev) for i in  range(n_childs) \n",
    "                            ]\n",
    "                next_level = next_level +node_childs\n",
    "                \n",
    "            previus_level = next_level\n",
    "            levels_nodes.append(next_level)     \n",
    "        self.levels_nodes=levels_nodes\n",
    "    \n",
    "    def get_level(self, level):\n",
    "        \"\"\"\n",
    "        Get the level\n",
    "        \n",
    "        :param int level: Level to get nodes\n",
    "        \n",
    "        :returns List: All the nodes in the level\n",
    "        \"\"\"\n",
    "        if level > len(self.levels_nodes)-1:\n",
    "            raise ValueError('There is no level : ', level, ' in the tree')\n",
    "\n",
    "            \n",
    "        return self.levels_nodes[level]\n",
    "    \n",
    "    def get_node(self, level_int, node_int):\n",
    "        \"\"\"\n",
    "        Get the node in level_in at position node_int\n",
    "        \n",
    "        :param  int level_int: Level of node\n",
    "        \n",
    "        :param int node_int: Position in level\n",
    "        \n",
    "        :returns NodeCluster: Node \n",
    "        \"\"\"\n",
    "        return self.levels_nodes[level_int][node_int]\n",
    "    ######Populate the structure \n",
    "    def populate_tree(self, \n",
    "                    number_per_cluster= None,\n",
    "                    density_init= None,\n",
    "                    factor_density = 3, \n",
    "                    density_init_list = None, # list of densities by level\n",
    "                    **kwargs\n",
    "                    ):\n",
    "        \"\"\"\n",
    "        Populate the TreeCluster structure, populate each node \n",
    "        inside the TreeClusters using random ranges.\n",
    "        \n",
    "        :param int number_per_cluster: Number of point per cluster (Default= None)\n",
    "        \n",
    "        :param double density_init: Initial density of the tree (Default= None)\n",
    "        \n",
    "        :param double factor_density: Factor to increase density (Default = 3)         \n",
    "        \n",
    "        :returns None:\n",
    "        \"\"\"\n",
    "        verbose = kwargs.get('verbose', False)\n",
    "        if verbose:\n",
    "            print(\"Entro a la funcion populate_tree\" )\n",
    "        for level_id, level in  enumerate(self.levels_nodes):\n",
    "            rand_cluster_state= np.random.randint(0, 1500, len(level)) ## Random ints for random_seed\n",
    "            if level_id ==0 :\n",
    "                density_lev= density_init\n",
    "            elif density_init is not None:\n",
    "                density_lev= prev_density*3\n",
    "            \n",
    "            for clust_id, cluster in enumerate(level): \n",
    "                if number_per_cluster is not None:\n",
    "                    cluster.populate_cluster(num_points =number_per_cluster,\n",
    "                                random_state = rand_cluster_state[clust_id],\n",
    "                                **kwargs\n",
    "                    )\n",
    "                elif number_per_cluster is None and density_lev is not None:\n",
    "                    cluster.populate_cluster(\n",
    "                                density= density_lev,\n",
    "                                random_state = rand_cluster_state[clust_id],\n",
    "                                **kwargs\n",
    "                    )\n",
    "                elif number_per_cluster is None and density_lev is None and density_init_list is not None:\n",
    "                    cluster.populate_cluster(\n",
    "                                density= density_init_list[level_id],\n",
    "                                random_state = rand_cluster_state[clust_id],\n",
    "                                **kwargs\n",
    "                    )\n",
    "    ########Get all point in the tree\n",
    "    def get_points_tree(self, level= None, iterative =False):\n",
    "        \"\"\"\n",
    "        Return all the points in the tree\n",
    "        \n",
    "        :param int level: The level to exctract the points (default = None)\n",
    "        \n",
    "        :param bool iterative: To exctract iterative (Default =False)\n",
    "        \n",
    "        :return Points :\n",
    "        \"\"\"\n",
    "        \n",
    "        if level != None:\n",
    "            lis_level = self.get_level(level)\n",
    "            all_points = []\n",
    "            for node in lis_level:\n",
    "                all_points = all_points + [i for i in node.append(node.get_points(all_tag = iterative ) )]\n",
    "            return all_points\n",
    "        else:\n",
    "            all_points = []\n",
    "            for level_t in  self.levels_nodes:\n",
    "                for node in level_t:\n",
    "\n",
    "                    all_points =all_points+[i for i in node.get_points(all_tag = iterative )] \n",
    "            return all_points\n",
    "            #return self.root.get_points( all_tag = iterative )\n",
    "    ####### visualize the structure \n",
    "    def print_structure(self):\n",
    "        \"\"\"\n",
    "        Print the tree structure in console\n",
    "        \n",
    "        \"\"\"\n",
    "        print(self.root.name)\n",
    "        for pre, _, node in RenderTree( self.root ):\n",
    "            treestr = u\"%s%s\" % (pre, node.name)\n",
    "            print(treestr.ljust(8))\n",
    "    \n",
    "    #### visualization of the clusters\n",
    "    \n",
    "    def visualize(self,\n",
    "                    axs,\n",
    "                    colors_levels= None,\n",
    "                    **kwargs\n",
    "                    ):\n",
    "        \"\"\"\n",
    "        Visualize the tree \n",
    "        \n",
    "        :param axs: The ax to plot the figure\n",
    "        \n",
    "        :param str color_map_val: use a matplotlib colormap\n",
    "        \"\"\"\n",
    "        if colors_levels is None:\n",
    "            color_map_val= kwargs.get('color_map_val', 'jet')\n",
    "            colors=  cm.get_cmap(color_map_val, len(self.levels_nodes))\n",
    "            color_map= colors#matplotlib.colors.ListedColormap(colors)\n",
    "        else:\n",
    "            color_map= matplotlib.colors.ListedColormap(colors_levels)\n",
    "        \n",
    "        for level, level_clusters in enumerate(self.levels_nodes):\n",
    "            for cluster in level_clusters:\n",
    "                cluster_alpha= kwargs.get('cluster_alpha', .2)\n",
    "                cluster.viewer_cluster(\n",
    "                    axs,\n",
    "                    color_cluster= color_map(level),\n",
    "                    polygon_color = color_map(level),\n",
    "                    **kwargs\n",
    "                )\n",
    "    ##### Vizulize levels\n",
    "    def visualize_levels(self,\n",
    "                        axs,\n",
    "                        **kwargs\n",
    "                        ):\n",
    "        \"\"\"\n",
    "        Visualize a specific level\n",
    "        \n",
    "        :param axe matplolib  axs: where thte plot will be draw\n",
    "        \n",
    "        :param list int levels: list of levels to  visualizelevel \n",
    "        \n",
    "        :returns None:\n",
    "        \n",
    "        \"\"\"\n",
    "        levels_vis = kwargs.get('levels', [0]),\n",
    "        # print(levels_vis)\n",
    "        color_map_val= kwargs.get('color_map_val', 'jet')\n",
    "        colors=  cm.get_cmap(color_map_val, len(levels_vis)+1)\n",
    "        color_map= colors#matplotlib.colors.ListedColormap(colors)\n",
    "        \n",
    "        # print([ lev_i for lev_i in levels_vis[0] ])\n",
    "        for level, level_clusters in enumerate([ self.levels_nodes[lev_i] for lev_i in levels_vis[0] ]):\n",
    "            for cluster in level_clusters:\n",
    "                cluster_alpha= kwargs.get('cluster_alpha', .2)\n",
    "                cluster.viewer_cluster(\n",
    "                    axs,\n",
    "                    color_cluster= color_map(level),\n",
    "                    polygon_color = color_map(level),\n",
    "                    **kwargs\n",
    "                )\n",
    "    #########################Copy\n",
    "    def copy_dynamic(self, \n",
    "                    list_levels_node = None,\n",
    "                    **kwargs \n",
    "                    ):\n",
    "        \"\"\"\n",
    "        creates a dynamic copy of the tree\n",
    "        \"\"\"\n",
    "        # duplicate_node\n",
    "        #### Es necesario duplicar la estructura \n",
    "        new_tree = TreeClusters()\n",
    "        #new_tree.levels = self.levels\n",
    "        verbose = kwargs.get('verbose', False )\n",
    "        # print (kwargs.get('copy_pref', False ))\n",
    "        \n",
    "        for level_id ,level_tree in enumerate(self.levels_nodes):\n",
    "            level_li =[]\n",
    "            for node in level_tree:\n",
    "                new_node = node.duplicate_node(**kwargs)\n",
    "                ####Copy the relation to the parent \n",
    "                ### ToDo change if the node is not include on the dinamic copy\n",
    "                \n",
    "                if node.parent in self.levels_nodes[level_id-1] and level_id!=0 :\n",
    "                    result_index = self.levels_nodes[level_id-1].index(node.parent)\n",
    "                    if verbose:\n",
    "                        print(f\"The {node.name} parent has an index of {result}.\")\n",
    "                    new_node.parent =  new_tree.levels_nodes[level_id-1][result_index]\n",
    "                else : \n",
    "                    new_node.parent =  None\n",
    "\n",
    "                level_li.append(new_node) \n",
    "            new_tree.levels_nodes.append(level_li)\n",
    "        new_tree.root = new_tree.levels_nodes[0][0]\n",
    "        return new_tree\n",
    "    \n",
    "    def get_deepth(self):\n",
    "        \"\"\"\n",
    "        Returns the deepth of the tree\n",
    "        \"\"\"\n",
    "        return len(self.levels_nodes)\n",
    "\n",
    "\n",
    "\n",
    "    def size(self):\n",
    "        \"\"\" \n",
    "        Returns the number of node in the tree\n",
    "        \"\"\"\n",
    "        sum_s=0\n",
    "        for i in self.levels_nodes:\n",
    "            sum_s +=len(i)\n",
    "        return sum_s\n",
    "\n",
    "    def size_points(self):\n",
    "        \"\"\"\n",
    "        Returns the number of points in the tree \n",
    "        \n",
    "        \"\"\"\n",
    "        sum_s=0\n",
    "        for level in self.levels_nodes:\n",
    "            for node in level:\n",
    "                sum_s += len(node.point_cluster_noise)\n",
    "        return sum_s\n",
    "    \n",
    "    def get_dataframe(self, **kwargs):\n",
    "        \"\"\"\n",
    "        Get a pandas Dataframe with the points and the tags of for each point\n",
    "        :returns pandas.DataFrame : Returns a dataframe with the columns 'Tag ',\n",
    "                                    'Final_tag', 'level', and 'cluster_id'\n",
    "    \n",
    "        Tag: is the reference of the point belong to a cluster as noise\n",
    "        \n",
    "        Final_tag: The point can belong to a inner cluster this tag tell \n",
    "                     wich is the last tag category the point belong to.\n",
    "        \n",
    "        level: list of levels of the clusters that the point belongs to.\n",
    "        \n",
    "        cluster_id: list of cluster id that the points belongs to.  \n",
    "        \n",
    "        \"\"\"\n",
    "        points_tags = self.root.tag_all_point()\n",
    "        df_points_tag= pd.DataFrame(points_tags, columns= ['Points', 'Tag'])\n",
    "        df_points_tag['Final_tag']= df_points_tag['Tag'].apply(lambda l :retag_from_strings(l) )\n",
    "        levels_id = df_points_tag['Final_tag'].apply(lambda l: levels_from_strings(l,level_str='_l_', node_str='_n_'))\n",
    "        df_points_tag['level'] = levels_id.apply(lambda l: l[0])\n",
    "        df_points_tag['cluster_id'] = levels_id.apply(lambda l: l[1])\n",
    "        return df_points_tag\n",
    "    \n",
    "\n",
    "    def get_dataframe_recursive(self,  **kwargs):\n",
    "        \"\"\"\n",
    "        Returns a dataframe with the columns 'Tag ', 'Final_tag', 'level', and 'cluster_id'\n",
    "        \n",
    "        This function is with the purpouse to obtain the same tags for the 'level' and \n",
    "        'cluster_id' from the recorsive clustering function\n",
    "        \n",
    "        Tag: is the reference of the point belong to a cluster as noise\n",
    "        Final_tag: the point can belong to a inner cluster this tag tell \n",
    "                    wich is the las tag category the point belong to.\n",
    "        level: list of levels of the clusters that the point belongs to.\n",
    "        cluster_id: list of cluster id that the points belongs to.  \n",
    "        \"\"\"\n",
    "        ### Pedir que como parametros level_str='_l_', node_str\n",
    "        func_level_nodes = kwargs.get('func_level_nodes' , string_recursive_tag) \n",
    "        \n",
    "\n",
    "        points_tags = self.root.tag_all_point()\n",
    "        df_points_tag= pd.DataFrame(points_tags, columns= ['Points', 'Tag'])\n",
    "        df_points_tag['Final_tag']= df_points_tag['Tag'].apply(lambda l :retag_from_strings(l) )\n",
    "        levels_id = df_points_tag['Final_tag'].apply(lambda l: func_level_nodes( l,tree_rec= self,**kwargs))\n",
    "        df_points_tag['level'] = levels_id.apply(lambda l: l[0])\n",
    "        df_points_tag['cluster_id'] = levels_id.apply(lambda l: l[1])\n",
    "        return df_points_tag\n",
    "    \n",
    "    def get_labels_point_nodes(self, **kwargs):\n",
    "        \"\"\"The function returns the poinst of the tree labeled for each node\n",
    "        \"\"\"\n",
    "        all_points=[] \n",
    "        level_get = kwargs.get('level_get' , self.get_deepth())\n",
    "        for num_lev, level in enumerate( self.levels_nodes):\n",
    "            if num_lev < level_get:\n",
    "                all_level = []\n",
    "                for node in level:\n",
    "                    all_level.append([(i,node.name + '_noise')  for i in node.point_cluster_noise])\n",
    "                all_points.append(all_level)\n",
    "            elif num_lev == level_get:\n",
    "                all_level = []\n",
    "                for node in level:\n",
    "                    all_level.append([(i,node.name + '_noise')  for i in node.get_point_decendent()])\n",
    "                all_points.append(all_level)\n",
    "\n",
    "        applaztalista = []\n",
    "        for level_p in all_points:\n",
    "            for node_res in level_p:\n",
    "                applaztalista =applaztalista +node_res  \n",
    "        return applaztalista\n",
    "\n",
    "\n",
    "    def get_dataframe_recursive_node_label(self,  **kwargs):\n",
    "        \"\"\"\n",
    "        Returns a dataframe with the columns 'Tag ', 'Final_tag', 'level', and 'cluster_id'\n",
    "        This function is with the purpouse to obtain the same tags for the 'level' and \n",
    "        'cluster_id' from the recursive clustering function\n",
    "        Tag: is the reference of the point belong to a cluster as noise\n",
    "        Final_tag: the point can belong to a inner cluster this tag tell \n",
    "        wich is the las tag category the point belong to.\n",
    "        level: list of levels of the clusters that the point belongs to.\n",
    "        cluster_id: list of cluster id that the points belongs to.  \n",
    "        \"\"\"\n",
    "        ### Pedir que como parametros level_str='_l_', node_str\n",
    "        func_level_nodes = kwargs.get('func_level_nodes' , string_recursive_tag) \n",
    "        \n",
    "\n",
    "        points_tags = self.get_labels_point_nodes(**kwargs)\n",
    "        df_points_tag= pd.DataFrame(points_tags, columns= ['Points', 'Tag'])\n",
    "        df_points_tag['Final_tag']= df_points_tag['Tag'].apply(lambda l :retag_from_strings(l) )\n",
    "        if func_level_nodes == string_recursive_tag:\n",
    "            levels_id = df_points_tag['Final_tag'].apply(lambda l: func_level_nodes( l,tree_rec= self,**kwargs))\n",
    "        else:\n",
    "            levels_id = df_points_tag['Final_tag'].apply(lambda l: func_level_nodes( l,**kwargs))\n",
    "        df_points_tag['level'] = levels_id.apply(lambda l: l[0])\n",
    "        df_points_tag['cluster_id'] = levels_id.apply(lambda l: l[1])\n",
    "        return df_points_tag\n",
    "\n",
    "    ########################Noise signal tree \n",
    "    def get_tag_noise_signal_tree(self):\n",
    "        \n",
    "        \"\"\"\n",
    "        Get the tags for each point in the cluster node \n",
    "        Returns all noise level tags \n",
    "        :returns: A dataframe with the tags of the all the points. \n",
    "        \"\"\"\n",
    "        ### tag for each level \n",
    "        all_point_tag_levels= []\n",
    "        for num,  level in enumerate(self.levels_nodes):\n",
    "            for node in level:\n",
    "                all_point_tag_levels = all_point_tag_levels+ [ (i[0],'1_'*num +i[1]) for i in node.tag_low_level_noise_signal()]\n",
    "        #### Names a\n",
    "        df_tags= pd.DataFrame(zip([i[0] for i in all_point_tag_levels],\n",
    "                                  [i[1] for i in all_point_tag_levels] ),\n",
    "                              columns= ['Points', 'Final_tag']) \n",
    "\n",
    "        df_tags['concat_tags'] =  df_tags['Final_tag'].apply(lambda l:\n",
    "                                                        '_'.join(l.split('_')+['noise']*(len(self.levels_nodes)-len(l.split('_'))))\n",
    "                                                    )\n",
    "        df_tags['concat_tags_signal'] = df_tags['concat_tags']\n",
    "        \n",
    "        return df_tags\n",
    "    \n"
   ]
  },
  {
   "cell_type": "code",
   "execution_count": null,
   "metadata": {},
   "outputs": [],
   "source": [
    "#| hide \n",
    "tree = TreeClusters(3, random_seed= 1)"
   ]
  },
  {
   "cell_type": "code",
   "execution_count": null,
   "metadata": {},
   "outputs": [],
   "source": [
    "#| hide\n",
    "tree.populate_tree(number_per_cluster=100)"
   ]
  },
  {
   "cell_type": "code",
   "execution_count": null,
   "metadata": {},
   "outputs": [
    {
     "name": "stdout",
     "output_type": "stream",
     "text": [
      "Root\n",
      "Root    \n",
      "└── Root_l_0_n_0\n",
      "    ├── Root_l_0_n_0_l_1_n_0\n",
      "    ├── Root_l_0_n_0_l_1_n_1\n",
      "    │   ├── Root_l_0_n_0_l_1_n_1_l_2_n_0\n",
      "    │   └── Root_l_0_n_0_l_1_n_1_l_2_n_1\n",
      "    ├── Root_l_0_n_0_l_1_n_2\n",
      "    └── Root_l_0_n_0_l_1_n_3\n",
      "        ├── Root_l_0_n_0_l_1_n_3_l_2_n_0\n",
      "        ├── Root_l_0_n_0_l_1_n_3_l_2_n_1\n",
      "        └── Root_l_0_n_0_l_1_n_3_l_2_n_2\n"
     ]
    }
   ],
   "source": [
    "#| hide\n",
    "tree.print_structure()"
   ]
  },
  {
   "cell_type": "code",
   "execution_count": null,
   "metadata": {},
   "outputs": [
    {
     "data": {
      "image/png": "[encoded data removed]",
      "text/plain": [
       "<Figure size 500x500 with 1 Axes>"
      ]
     },
     "metadata": {},
     "output_type": "display_data"
    }
   ],
   "source": [
    "#| hide\n",
    "fig, axs = plt.subplots( figsize=(5,5))\n",
    "tree.visualize(axs, polygon=True)"
   ]
  },
  {
   "cell_type": "code",
   "execution_count": null,
   "metadata": {},
   "outputs": [
    {
     "data": {
      "image/png": "[encoded data removed]",
      "text/plain": [
       "<Figure size 500x500 with 1 Axes>"
      ]
     },
     "metadata": {},
     "output_type": "display_data"
    }
   ],
   "source": [
    "#| hide\n",
    "fig, axs = plt.subplots( figsize=(5,5))\n",
    "\n",
    "tree.visualize_levels(axs,polygon= True)"
   ]
  },
  {
   "cell_type": "code",
   "execution_count": null,
   "metadata": {},
   "outputs": [
    {
     "data": {
      "text/plain": [
       "4"
      ]
     },
     "execution_count": null,
     "metadata": {},
     "output_type": "execute_result"
    }
   ],
   "source": [
    "#| hide\n",
    "tree.get_deepth()"
   ]
  },
  {
   "cell_type": "code",
   "execution_count": null,
   "metadata": {},
   "outputs": [
    {
     "data": {
      "text/plain": [
       "11"
      ]
     },
     "execution_count": null,
     "metadata": {},
     "output_type": "execute_result"
    }
   ],
   "source": [
    "#| hide \n",
    "tree.size()"
   ]
  },
  {
   "cell_type": "code",
   "execution_count": null,
   "metadata": {},
   "outputs": [
    {
     "data": {
      "text/plain": [
       "1100"
      ]
     },
     "execution_count": null,
     "metadata": {},
     "output_type": "execute_result"
    }
   ],
   "source": [
    "#| hide \n",
    "tree.size_points()"
   ]
  },
  {
   "cell_type": "code",
   "execution_count": null,
   "metadata": {},
   "outputs": [],
   "source": [
    "#| hide \n",
    "##tree.get_dataframe()"
   ]
  },
  {
   "cell_type": "code",
   "execution_count": null,
   "metadata": {},
   "outputs": [
    {
     "data": {
      "text/html": [
       "<div>\n",
       "<style scoped>\n",
       "    .dataframe tbody tr th:only-of-type {\n",
       "        vertical-align: middle;\n",
       "    }\n",
       "\n",
       "    .dataframe tbody tr th {\n",
       "        vertical-align: top;\n",
       "    }\n",
       "\n",
       "    .dataframe thead th {\n",
       "        text-align: right;\n",
       "    }\n",
       "</style>\n",
       "<table border=\"1\" class=\"dataframe\">\n",
       "  <thead>\n",
       "    <tr style=\"text-align: right;\">\n",
       "      <th></th>\n",
       "      <th>Points</th>\n",
       "      <th>Tag</th>\n",
       "      <th>Final_tag</th>\n",
       "      <th>level</th>\n",
       "      <th>cluster_id</th>\n",
       "    </tr>\n",
       "  </thead>\n",
       "  <tbody>\n",
       "    <tr>\n",
       "      <th>0</th>\n",
       "      <td>POINT (0.4614354347200196 0.1160844594281872)</td>\n",
       "      <td>Root_noise</td>\n",
       "      <td>Root_noise</td>\n",
       "      <td>[]</td>\n",
       "      <td>[]</td>\n",
       "    </tr>\n",
       "    <tr>\n",
       "      <th>1</th>\n",
       "      <td>POINT (0.6311719882322093 0.2759457431006086)</td>\n",
       "      <td>Root_noise</td>\n",
       "      <td>Root_noise</td>\n",
       "      <td>[]</td>\n",
       "      <td>[]</td>\n",
       "    </tr>\n",
       "    <tr>\n",
       "      <th>2</th>\n",
       "      <td>POINT (0.1722936392830403 0.5330288689429423)</td>\n",
       "      <td>Root_noise</td>\n",
       "      <td>Root_noise</td>\n",
       "      <td>[]</td>\n",
       "      <td>[]</td>\n",
       "    </tr>\n",
       "    <tr>\n",
       "      <th>3</th>\n",
       "      <td>POINT (0.406692025302107 0.7149389149356622)</td>\n",
       "      <td>Root_noise</td>\n",
       "      <td>Root_noise</td>\n",
       "      <td>[]</td>\n",
       "      <td>[]</td>\n",
       "    </tr>\n",
       "    <tr>\n",
       "      <th>4</th>\n",
       "      <td>POINT (0.0954962078875164 0.9093930390689282)</td>\n",
       "      <td>Root_noise</td>\n",
       "      <td>Root_noise</td>\n",
       "      <td>[]</td>\n",
       "      <td>[]</td>\n",
       "    </tr>\n",
       "    <tr>\n",
       "      <th>...</th>\n",
       "      <td>...</td>\n",
       "      <td>...</td>\n",
       "      <td>...</td>\n",
       "      <td>...</td>\n",
       "      <td>...</td>\n",
       "    </tr>\n",
       "    <tr>\n",
       "      <th>1095</th>\n",
       "      <td>POINT (0.1227034497097889 0.251063514217074)</td>\n",
       "      <td>Root_l_0_n_0_l_1_n_3_l_2_n_2_noise</td>\n",
       "      <td>Root_l_0_n_0_l_1_n_3_l_2_n_2_noise</td>\n",
       "      <td>[]</td>\n",
       "      <td>[]</td>\n",
       "    </tr>\n",
       "    <tr>\n",
       "      <th>1096</th>\n",
       "      <td>POINT (0.1230435485485285 0.2512764754872643)</td>\n",
       "      <td>Root_l_0_n_0_l_1_n_3_l_2_n_2_noise</td>\n",
       "      <td>Root_l_0_n_0_l_1_n_3_l_2_n_2_noise</td>\n",
       "      <td>[]</td>\n",
       "      <td>[]</td>\n",
       "    </tr>\n",
       "    <tr>\n",
       "      <th>1097</th>\n",
       "      <td>POINT (0.122798395741468 0.2514219224097799)</td>\n",
       "      <td>Root_l_0_n_0_l_1_n_3_l_2_n_2_noise</td>\n",
       "      <td>Root_l_0_n_0_l_1_n_3_l_2_n_2_noise</td>\n",
       "      <td>[]</td>\n",
       "      <td>[]</td>\n",
       "    </tr>\n",
       "    <tr>\n",
       "      <th>1098</th>\n",
       "      <td>POINT (0.122963651711454 0.2509620728031829)</td>\n",
       "      <td>Root_l_0_n_0_l_1_n_3_l_2_n_2_noise</td>\n",
       "      <td>Root_l_0_n_0_l_1_n_3_l_2_n_2_noise</td>\n",
       "      <td>[]</td>\n",
       "      <td>[]</td>\n",
       "    </tr>\n",
       "    <tr>\n",
       "      <th>1099</th>\n",
       "      <td>POINT (0.1227368014134204 0.2510962672793702)</td>\n",
       "      <td>Root_l_0_n_0_l_1_n_3_l_2_n_2+Root_l_0_n_0_l_1_...</td>\n",
       "      <td>Root_l_0_n_0_l_1_n_3_l_2_n_2_noise</td>\n",
       "      <td>[]</td>\n",
       "      <td>[]</td>\n",
       "    </tr>\n",
       "  </tbody>\n",
       "</table>\n",
       "<p>1100 rows × 5 columns</p>\n",
       "</div>"
      ],
      "text/plain": [
       "                                             Points  \\\n",
       "0     POINT (0.4614354347200196 0.1160844594281872)   \n",
       "1     POINT (0.6311719882322093 0.2759457431006086)   \n",
       "2     POINT (0.1722936392830403 0.5330288689429423)   \n",
       "3      POINT (0.406692025302107 0.7149389149356622)   \n",
       "4     POINT (0.0954962078875164 0.9093930390689282)   \n",
       "...                                             ...   \n",
       "1095   POINT (0.1227034497097889 0.251063514217074)   \n",
       "1096  POINT (0.1230435485485285 0.2512764754872643)   \n",
       "1097   POINT (0.122798395741468 0.2514219224097799)   \n",
       "1098   POINT (0.122963651711454 0.2509620728031829)   \n",
       "1099  POINT (0.1227368014134204 0.2510962672793702)   \n",
       "\n",
       "                                                    Tag  \\\n",
       "0                                            Root_noise   \n",
       "1                                            Root_noise   \n",
       "2                                            Root_noise   \n",
       "3                                            Root_noise   \n",
       "4                                            Root_noise   \n",
       "...                                                 ...   \n",
       "1095                 Root_l_0_n_0_l_1_n_3_l_2_n_2_noise   \n",
       "1096                 Root_l_0_n_0_l_1_n_3_l_2_n_2_noise   \n",
       "1097                 Root_l_0_n_0_l_1_n_3_l_2_n_2_noise   \n",
       "1098                 Root_l_0_n_0_l_1_n_3_l_2_n_2_noise   \n",
       "1099  Root_l_0_n_0_l_1_n_3_l_2_n_2+Root_l_0_n_0_l_1_...   \n",
       "\n",
       "                               Final_tag level cluster_id  \n",
       "0                             Root_noise    []         []  \n",
       "1                             Root_noise    []         []  \n",
       "2                             Root_noise    []         []  \n",
       "3                             Root_noise    []         []  \n",
       "4                             Root_noise    []         []  \n",
       "...                                  ...   ...        ...  \n",
       "1095  Root_l_0_n_0_l_1_n_3_l_2_n_2_noise    []         []  \n",
       "1096  Root_l_0_n_0_l_1_n_3_l_2_n_2_noise    []         []  \n",
       "1097  Root_l_0_n_0_l_1_n_3_l_2_n_2_noise    []         []  \n",
       "1098  Root_l_0_n_0_l_1_n_3_l_2_n_2_noise    []         []  \n",
       "1099  Root_l_0_n_0_l_1_n_3_l_2_n_2_noise    []         []  \n",
       "\n",
       "[1100 rows x 5 columns]"
      ]
     },
     "execution_count": null,
     "metadata": {},
     "output_type": "execute_result"
    }
   ],
   "source": [
    "tree.get_dataframe_recursive()"
   ]
  },
  {
   "cell_type": "markdown",
   "metadata": {},
   "source": [
    "### Methods\n",
    "The following are the mos important methos inside the `TreeClusters` class"
   ]
  },
  {
   "cell_type": "markdown",
   "metadata": {},
   "source": [
    "#### Counstruct tree \n",
    "\n",
    "The tree clustes structure "
   ]
  },
  {
   "cell_type": "code",
   "execution_count": null,
   "metadata": {},
   "outputs": [
    {
     "data": {
      "text/markdown": [
       "---\n",
       "\n",
       "### TreeClusters.__init__\n",
       "\n",
       ">      TreeClusters.__init__ (levels=None, r_name='Root', level_str='l_',\n",
       ">                             node_str='n_', **kwargs)\n",
       "\n",
       "Build the tree \n",
       "\n",
       ":param int levels: Number of leevels in the tree (Default =None) \n",
       "\n",
       ":param str r_name : String to root label (Default= 'Root')\n",
       "\n",
       ":param str level_str: String to name the levels (Default= 'l_')\n",
       "\n",
       ":param str node_str: String to name the nodes (Default ='n_')\n",
       "\n",
       ":param double random_seed:"
      ],
      "text/plain": [
       "---\n",
       "\n",
       "### TreeClusters.__init__\n",
       "\n",
       ">      TreeClusters.__init__ (levels=None, r_name='Root', level_str='l_',\n",
       ">                             node_str='n_', **kwargs)\n",
       "\n",
       "Build the tree \n",
       "\n",
       ":param int levels: Number of leevels in the tree (Default =None) \n",
       "\n",
       ":param str r_name : String to root label (Default= 'Root')\n",
       "\n",
       ":param str level_str: String to name the levels (Default= 'l_')\n",
       "\n",
       ":param str node_str: String to name the nodes (Default ='n_')\n",
       "\n",
       ":param double random_seed:"
      ]
     },
     "execution_count": null,
     "metadata": {},
     "output_type": "execute_result"
    }
   ],
   "source": [
    "show_doc(TreeClusters.__init__)"
   ]
  },
  {
   "cell_type": "code",
   "execution_count": null,
   "metadata": {},
   "outputs": [
    {
     "data": {
      "text/markdown": [
       "---\n",
       "\n",
       "### TreeClusters.populate_tree\n",
       "\n",
       ">      TreeClusters.populate_tree (number_per_cluster=None, density_init=None,\n",
       ">                                  factor_density=3, density_init_list=None,\n",
       ">                                  **kwargs)\n",
       "\n",
       "Populate the TreeCluster structure, populate each node \n",
       "inside the TreeClusters using random ranges.\n",
       "\n",
       ":param int number_per_cluster: Number of point per cluster (Default= None)\n",
       "\n",
       ":param double density_init: Initial density of the tree (Default= None)\n",
       "\n",
       ":param double factor_density: Factor to increase density (Default = 3)         \n",
       "\n",
       ":returns None:\n",
       "\n",
       "|    | **Type** | **Default** | **Details** |\n",
       "| -- | -------- | ----------- | ----------- |\n",
       "| number_per_cluster | NoneType | None |  |\n",
       "| density_init | NoneType | None |  |\n",
       "| factor_density | int | 3 |  |\n",
       "| density_init_list | NoneType | None | list of densities by level |\n",
       "| kwargs |  |  |  |"
      ],
      "text/plain": [
       "---\n",
       "\n",
       "### TreeClusters.populate_tree\n",
       "\n",
       ">      TreeClusters.populate_tree (number_per_cluster=None, density_init=None,\n",
       ">                                  factor_density=3, density_init_list=None,\n",
       ">                                  **kwargs)\n",
       "\n",
       "Populate the TreeCluster structure, populate each node \n",
       "inside the TreeClusters using random ranges.\n",
       "\n",
       ":param int number_per_cluster: Number of point per cluster (Default= None)\n",
       "\n",
       ":param double density_init: Initial density of the tree (Default= None)\n",
       "\n",
       ":param double factor_density: Factor to increase density (Default = 3)         \n",
       "\n",
       ":returns None:\n",
       "\n",
       "|    | **Type** | **Default** | **Details** |\n",
       "| -- | -------- | ----------- | ----------- |\n",
       "| number_per_cluster | NoneType | None |  |\n",
       "| density_init | NoneType | None |  |\n",
       "| factor_density | int | 3 |  |\n",
       "| density_init_list | NoneType | None | list of densities by level |\n",
       "| kwargs |  |  |  |"
      ]
     },
     "execution_count": null,
     "metadata": {},
     "output_type": "execute_result"
    }
   ],
   "source": [
    "show_doc(TreeClusters.populate_tree)"
   ]
  },
  {
   "cell_type": "markdown",
   "metadata": {},
   "source": [
    "#### Tree Values "
   ]
  },
  {
   "cell_type": "code",
   "execution_count": null,
   "metadata": {},
   "outputs": [
    {
     "data": {
      "text/markdown": [
       "---\n",
       "\n",
       "### TreeClusters.get_deepth\n",
       "\n",
       ">      TreeClusters.get_deepth ()\n",
       "\n",
       "Returns the deepth of the tree"
      ],
      "text/plain": [
       "---\n",
       "\n",
       "### TreeClusters.get_deepth\n",
       "\n",
       ">      TreeClusters.get_deepth ()\n",
       "\n",
       "Returns the deepth of the tree"
      ]
     },
     "execution_count": null,
     "metadata": {},
     "output_type": "execute_result"
    }
   ],
   "source": [
    "show_doc(TreeClusters.get_deepth)"
   ]
  },
  {
   "cell_type": "code",
   "execution_count": null,
   "metadata": {},
   "outputs": [
    {
     "data": {
      "text/markdown": [
       "---\n",
       "\n",
       "### TreeClusters.size\n",
       "\n",
       ">      TreeClusters.size ()\n",
       "\n",
       "Returns the number of node in the tree"
      ],
      "text/plain": [
       "---\n",
       "\n",
       "### TreeClusters.size\n",
       "\n",
       ">      TreeClusters.size ()\n",
       "\n",
       "Returns the number of node in the tree"
      ]
     },
     "execution_count": null,
     "metadata": {},
     "output_type": "execute_result"
    }
   ],
   "source": [
    "show_doc(TreeClusters.size)"
   ]
  },
  {
   "cell_type": "markdown",
   "metadata": {},
   "source": [
    "#### Points "
   ]
  },
  {
   "cell_type": "code",
   "execution_count": null,
   "metadata": {},
   "outputs": [
    {
     "data": {
      "text/markdown": [
       "---\n",
       "\n",
       "### TreeClusters.get_points_tree\n",
       "\n",
       ">      TreeClusters.get_points_tree (level=None, iterative=False)\n",
       "\n",
       "Return all the points in the tree\n",
       "\n",
       ":param int level: The level to exctract the points (default = None)\n",
       "\n",
       ":param bool iterative: To exctract iterative (Default =False)\n",
       "\n",
       ":return Points :"
      ],
      "text/plain": [
       "---\n",
       "\n",
       "### TreeClusters.get_points_tree\n",
       "\n",
       ">      TreeClusters.get_points_tree (level=None, iterative=False)\n",
       "\n",
       "Return all the points in the tree\n",
       "\n",
       ":param int level: The level to exctract the points (default = None)\n",
       "\n",
       ":param bool iterative: To exctract iterative (Default =False)\n",
       "\n",
       ":return Points :"
      ]
     },
     "execution_count": null,
     "metadata": {},
     "output_type": "execute_result"
    }
   ],
   "source": [
    "show_doc(TreeClusters.get_points_tree)\n"
   ]
  },
  {
   "cell_type": "markdown",
   "metadata": {},
   "source": [
    "#### Visualize\n"
   ]
  },
  {
   "cell_type": "code",
   "execution_count": null,
   "metadata": {},
   "outputs": [
    {
     "data": {
      "text/markdown": [
       "---\n",
       "\n",
       "### TreeClusters.print_structure\n",
       "\n",
       ">      TreeClusters.print_structure ()\n",
       "\n",
       "Print the tree structure in console"
      ],
      "text/plain": [
       "---\n",
       "\n",
       "### TreeClusters.print_structure\n",
       "\n",
       ">      TreeClusters.print_structure ()\n",
       "\n",
       "Print the tree structure in console"
      ]
     },
     "execution_count": null,
     "metadata": {},
     "output_type": "execute_result"
    }
   ],
   "source": [
    "show_doc(TreeClusters.print_structure)"
   ]
  },
  {
   "cell_type": "code",
   "execution_count": null,
   "metadata": {},
   "outputs": [
    {
     "data": {
      "text/markdown": [
       "---\n",
       "\n",
       "### TreeClusters.visualize\n",
       "\n",
       ">      TreeClusters.visualize (axs, colors_levels=None, **kwargs)\n",
       "\n",
       "Visualize the tree \n",
       "\n",
       ":param axs: The ax to plot the figure\n",
       "\n",
       ":param str color_map_val: use a matplotlib colormap"
      ],
      "text/plain": [
       "---\n",
       "\n",
       "### TreeClusters.visualize\n",
       "\n",
       ">      TreeClusters.visualize (axs, colors_levels=None, **kwargs)\n",
       "\n",
       "Visualize the tree \n",
       "\n",
       ":param axs: The ax to plot the figure\n",
       "\n",
       ":param str color_map_val: use a matplotlib colormap"
      ]
     },
     "execution_count": null,
     "metadata": {},
     "output_type": "execute_result"
    }
   ],
   "source": [
    "show_doc(TreeClusters.visualize)"
   ]
  },
  {
   "cell_type": "code",
   "execution_count": null,
   "metadata": {},
   "outputs": [
    {
     "data": {
      "text/markdown": [
       "---\n",
       "\n",
       "### TreeClusters.visualize_levels\n",
       "\n",
       ">      TreeClusters.visualize_levels (axs, **kwargs)\n",
       "\n",
       "Visualize a specific level\n",
       "\n",
       ":param axe matplolib  axs: where thte plot will be draw\n",
       "\n",
       ":param list int levels: list of levels to  visualizelevel \n",
       "\n",
       ":returns None:"
      ],
      "text/plain": [
       "---\n",
       "\n",
       "### TreeClusters.visualize_levels\n",
       "\n",
       ">      TreeClusters.visualize_levels (axs, **kwargs)\n",
       "\n",
       "Visualize a specific level\n",
       "\n",
       ":param axe matplolib  axs: where thte plot will be draw\n",
       "\n",
       ":param list int levels: list of levels to  visualizelevel \n",
       "\n",
       ":returns None:"
      ]
     },
     "execution_count": null,
     "metadata": {},
     "output_type": "execute_result"
    }
   ],
   "source": [
    "show_doc(TreeClusters.visualize_levels)"
   ]
  },
  {
   "cell_type": "markdown",
   "metadata": {},
   "source": [
    "## Helper functions\n",
    "\n",
    "Functions to help build the nodes and trees  "
   ]
  },
  {
   "cell_type": "code",
   "execution_count": null,
   "metadata": {},
   "outputs": [
    {
     "data": {
      "text/markdown": [
       "---\n",
       "\n",
       "### inside_polygon\n",
       "\n",
       ">      inside_polygon (list_points, poligon_check, min_percent)\n",
       "\n",
       "Help function to validate the number of points that are inside the polygon \n",
       "\n",
       ":param list list_points: List of points to consider \n",
       "\n",
       ":param shapely.geometry.Polygon poligon_check:   \n",
       "\n",
       ":param min_percent: Minimun percent of point to be consider inside \n",
       "\n",
       ":returns tuple: (bool, list of point inside).   "
      ],
      "text/plain": [
       "---\n",
       "\n",
       "### inside_polygon\n",
       "\n",
       ">      inside_polygon (list_points, poligon_check, min_percent)\n",
       "\n",
       "Help function to validate the number of points that are inside the polygon \n",
       "\n",
       ":param list list_points: List of points to consider \n",
       "\n",
       ":param shapely.geometry.Polygon poligon_check:   \n",
       "\n",
       ":param min_percent: Minimun percent of point to be consider inside \n",
       "\n",
       ":returns tuple: (bool, list of point inside).   "
      ]
     },
     "execution_count": null,
     "metadata": {},
     "output_type": "execute_result"
    }
   ],
   "source": [
    "show_doc(inside_polygon)"
   ]
  },
  {
   "cell_type": "code",
   "execution_count": null,
   "metadata": {},
   "outputs": [
    {
     "data": {
      "text/markdown": [
       "---\n",
       "\n",
       "### poligon_non_convex_from_Points\n",
       "\n",
       ">      poligon_non_convex_from_Points (points_li)\n",
       "\n",
       "Create a random (no convex) poligon from the points\n",
       "The algorithm returns a polygon creatated from the points, the \n",
       "non convex part it is not always guaranteed.\n",
       "\n",
       ":param list points_li: list of shapely.geometry.Point \n",
       "\n",
       ":returns shapely.grometry.Polygon: The polygon created "
      ],
      "text/plain": [
       "---\n",
       "\n",
       "### poligon_non_convex_from_Points\n",
       "\n",
       ">      poligon_non_convex_from_Points (points_li)\n",
       "\n",
       "Create a random (no convex) poligon from the points\n",
       "The algorithm returns a polygon creatated from the points, the \n",
       "non convex part it is not always guaranteed.\n",
       "\n",
       ":param list points_li: list of shapely.geometry.Point \n",
       "\n",
       ":returns shapely.grometry.Polygon: The polygon created "
      ]
     },
     "execution_count": null,
     "metadata": {},
     "output_type": "execute_result"
    }
   ],
   "source": [
    "show_doc(poligon_non_convex_from_Points)"
   ]
  },
  {
   "cell_type": "code",
   "execution_count": null,
   "metadata": {},
   "outputs": [
    {
     "data": {
      "text/markdown": [
       "---\n",
       "\n",
       "### poligon_non_convex_random_gen\n",
       "\n",
       ">      poligon_non_convex_random_gen (npoints)\n",
       "\n",
       "Create a random (no convex) poligon from n points\n",
       "The algorithm returns a polygon creatated from n random 2d points the \n",
       "non convex part it is not always guaranteed.\n",
       "\n",
       ":param int npoints: Number of point to generate the polygon \n",
       "\n",
       ":returns shapely.geometry.Polygon: The polygon created"
      ],
      "text/plain": [
       "---\n",
       "\n",
       "### poligon_non_convex_random_gen\n",
       "\n",
       ">      poligon_non_convex_random_gen (npoints)\n",
       "\n",
       "Create a random (no convex) poligon from n points\n",
       "The algorithm returns a polygon creatated from n random 2d points the \n",
       "non convex part it is not always guaranteed.\n",
       "\n",
       ":param int npoints: Number of point to generate the polygon \n",
       "\n",
       ":returns shapely.geometry.Polygon: The polygon created"
      ]
     },
     "execution_count": null,
     "metadata": {},
     "output_type": "execute_result"
    }
   ],
   "source": [
    "show_doc(poligon_non_convex_random_gen)"
   ]
  },
  {
   "cell_type": "code",
   "execution_count": null,
   "metadata": {},
   "outputs": [],
   "source": [
    "#| hide\n",
    "import nbdev; nbdev.nbdev_export()"
   ]
  }
 ],
 "metadata": {
  "kernelspec": {
   "display_name": "Python 3 (ipykernel)",
   "language": "python",
   "name": "python3"
  }
 },
 "nbformat": 4,
 "nbformat_minor": 4
}
