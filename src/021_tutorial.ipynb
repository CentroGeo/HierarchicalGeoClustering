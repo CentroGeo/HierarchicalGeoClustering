{
 "cells": [
  {
   "cell_type": "markdown",
   "id": "185c9419-11a1-47d0-9262-b94c84f30288",
   "metadata": {},
   "source": [
    "# Tutorial\n",
    "\n",
    "In this tutorial a example on how to use the most imporrtant methos of the library are inroduce. "
   ]
  },
  {
   "cell_type": "markdown",
   "id": "6e42f499-8f6d-4199-8c29-d30cf764420d",
   "metadata": {},
   "source": [
    "## Generation of clusters"
   ]
  },
  {
   "cell_type": "markdown",
   "id": "ebc6f7bc-c164-405b-b7c6-0cf6ba97f660",
   "metadata": {},
   "source": [
    "## Visualization\n"
   ]
  },
  {
   "cell_type": "markdown",
   "id": "2c74d567-fcf0-4ce0-b1df-095cf6e0e945",
   "metadata": {},
   "source": [
    "## Clusterization "
   ]
  },
  {
   "cell_type": "markdown",
   "id": "d9522ba8-3c6d-4b0e-8047-e83ef5251238",
   "metadata": {},
   "source": [
    "## Evaluation"
   ]
  },
  {
   "cell_type": "code",
   "execution_count": null,
   "id": "b9763918-0fc0-40ef-9a50-04fdb85fdff1",
   "metadata": {},
   "outputs": [],
   "source": []
  }
 ],
 "metadata": {
  "kernelspec": {
   "display_name": "Python 3 (ipykernel)",
   "language": "python",
   "name": "python3"
  },
  "language_info": {
   "codemirror_mode": {
    "name": "ipython",
    "version": 3
   },
   "file_extension": ".py",
   "mimetype": "text/x-python",
   "name": "python",
   "nbconvert_exporter": "python",
   "pygments_lexer": "ipython3",
   "version": "3.7.12"
  }
 },
 "nbformat": 4,
 "nbformat_minor": 5
}
