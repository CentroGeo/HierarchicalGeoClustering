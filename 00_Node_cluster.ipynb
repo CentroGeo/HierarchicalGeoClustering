{
 "cells": [
  {
   "cell_type": "code",
   "execution_count": null,
   "metadata": {},
   "outputs": [],
   "source": [
    "# default_exp core"
   ]
  },
  {
   "cell_type": "markdown",
   "metadata": {},
   "source": [
    "# Node_cluster\n",
    "\n",
    "> Basic classes to generate the cluster_node clas \n"
   ]
  },
  {
   "cell_type": "code",
   "execution_count": null,
   "metadata": {},
   "outputs": [],
   "source": [
    "#hide\n",
    "from nbdev.showdoc import *"
   ]
  },
  {
   "cell_type": "code",
   "execution_count": null,
   "metadata": {},
   "outputs": [],
   "source": [
    "#export \n",
    "import sklearn\n",
    "from sklearn import cluster, datasets\n",
    "import anytree\n",
    "from shapely.geometry import LineString\n",
    "from shapely.ops import polygonize, cascaded_union\n",
    "from shapely.geometry import box\n",
    "from shapely.geometry import Point, Polygon, MultiPolygon\n",
    "from shapely.ops import polygonize_full, linemerge, unary_union\n",
    "from matplotlib import cm\n",
    "from anytree import NodeMixin, RenderTree"
   ]
  },
  {
   "cell_type": "markdown",
   "metadata": {},
   "source": [
    "## cluster\n",
    "A basic cluster definition "
   ]
  },
  {
   "cell_type": "code",
   "execution_count": null,
   "metadata": {},
   "outputs": [],
   "source": [
    "#export \n",
    "class cluster(object):\n",
    "    polygon_cluster = None\n",
    "    point_cluster_noise = None\n",
    "\n",
    "    def __init__(self):\n",
    "        self.polygon_cluster = None\n",
    "        self.density = None\n",
    "        self.point_cluster_noise = None\n",
    "    "
   ]
  },
  {
   "cell_type": "code",
   "execution_count": null,
   "metadata": {},
   "outputs": [],
   "source": []
  }
 ],
 "metadata": {
  "kernelspec": {
   "display_name": "Python 3 (ipykernel)",
   "language": "python",
   "name": "python3"
  },
  "language_info": {
   "codemirror_mode": {
    "name": "ipython",
    "version": 3
   },
   "file_extension": ".py",
   "mimetype": "text/x-python",
   "name": "python",
   "nbconvert_exporter": "python",
   "pygments_lexer": "ipython3",
   "version": "3.7.12"
  }
 },
 "nbformat": 4,
 "nbformat_minor": 4
}
